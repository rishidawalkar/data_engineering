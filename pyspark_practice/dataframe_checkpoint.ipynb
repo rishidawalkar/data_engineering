{
 "cells": [
  {
   "cell_type": "code",
   "execution_count": 6,
   "id": "2d336743-ac83-429c-91b6-1844da8446b0",
   "metadata": {},
   "outputs": [
    {
     "name": "stdout",
     "output_type": "stream",
     "text": [
      "+---+----------------+------------+-------------+-------+--------+-----------+-------+-------------+-------------+-------------+-------------+-------------+-------------+-------------+\n",
      "| Id|Institution_Name| Branch_Name|Branch_Number|   City|  County|      State|Zipcode|2010_Deposits|2011_Deposits|2012_Deposits|2013_Deposits|2014_Deposits|2015_Deposits|2016_Deposits|\n",
      "+---+----------------+------------+-------------+-------+--------+-----------+-------+-------------+-------------+-------------+-------------+-------------+-------------+-------------+\n",
      "|  1|           abcde|      Bandra|          100| Mumbai| Western|Maharashtra| 400000|      9783849|       844848|      8484393|       834841|       284773|      7389298|       737839|\n",
      "|  2|            gdtd|Govind nagar|          101| Nashik| Eastern|Maharashtra|  41111|        64848|       836239|        53446|       834780|        76436|        98753|        23556|\n",
      "|  3|            huhu|Shivaji park|          102| Mumbai| Western|Maharashtra| 400000|       738282|       618151|       878776|       676755|       343567|      2457445|       764538|\n",
      "|  4|            gstu|       Bronx|          500|Newyork|Northern|         NY|  10000|      7632927|       652818|       787565|      1234556|      4545734|     67545454|         4543|\n",
      "|  5|           ppaio|   Manhattan|          501|Newyork| Central|         NY|  10001|       729929|       638828|       517829|      4291873|       743778|       122738|       737728|\n",
      "+---+----------------+------------+-------------+-------+--------+-----------+-------+-------------+-------------+-------------+-------------+-------------+-------------+-------------+\n",
      "\n"
     ]
    },
    {
     "ename": "AttributeError",
     "evalue": "'DataFrameReader' object has no attribute 'checkpoint'",
     "output_type": "error",
     "traceback": [
      "\u001b[1;31m---------------------------------------------------------------------------\u001b[0m",
      "\u001b[1;31mAttributeError\u001b[0m                            Traceback (most recent call last)",
      "Cell \u001b[1;32mIn[6], line 20\u001b[0m\n\u001b[0;32m     17\u001b[0m spark\u001b[38;5;241m.\u001b[39mconf\u001b[38;5;241m.\u001b[39mset(\u001b[38;5;124m\"\u001b[39m\u001b[38;5;124mcheckpointDir\u001b[39m\u001b[38;5;124m\"\u001b[39m, \u001b[38;5;124m\"\u001b[39m\u001b[38;5;124m/pyspark_practice\u001b[39m\u001b[38;5;124m\"\u001b[39m)\n\u001b[0;32m     18\u001b[0m \u001b[38;5;66;03m#df.checkpoint()\u001b[39;00m\n\u001b[1;32m---> 20\u001b[0m \u001b[43mspark\u001b[49m\u001b[38;5;241;43m.\u001b[39;49m\u001b[43mread\u001b[49m\u001b[38;5;241;43m.\u001b[39;49m\u001b[43mcheckpoint\u001b[49m()\n",
      "\u001b[1;31mAttributeError\u001b[0m: 'DataFrameReader' object has no attribute 'checkpoint'"
     ]
    }
   ],
   "source": [
    "import pyspark, os, sys\n",
    "from pyspark.sql import *\n",
    "from pyspark import SparkConf,SparkContext\n",
    "from pyspark.sql.functions import *\n",
    "from pyspark.sql.types import *\n",
    "from pyspark.sql import types\n",
    "from pyspark import StorageLevel\n",
    "from pyspark.sql.functions import broadcast\n",
    "from pyspark.sql.functions import col\n",
    "\n",
    "spark=SparkSession.builder.getOrCreate()\n",
    "\n",
    "df=spark.read.format(\"csv\").option(\"header\",True).option(\"inferSchema\", True).load(\"sample1.csv\")\n",
    "\n",
    "df.show()\n",
    "\n",
    "spark.conf.set(\"checkpointDir\", \"/pyspark_practice\")\n",
    "#df.checkpoint()\n",
    "\n",
    "spark.read.checkpoint()"
   ]
  }
 ],
 "metadata": {
  "kernelspec": {
   "display_name": "Python 3 (ipykernel)",
   "language": "python",
   "name": "python3"
  },
  "language_info": {
   "codemirror_mode": {
    "name": "ipython",
    "version": 3
   },
   "file_extension": ".py",
   "mimetype": "text/x-python",
   "name": "python",
   "nbconvert_exporter": "python",
   "pygments_lexer": "ipython3",
   "version": "3.12.3"
  }
 },
 "nbformat": 4,
 "nbformat_minor": 5
}
