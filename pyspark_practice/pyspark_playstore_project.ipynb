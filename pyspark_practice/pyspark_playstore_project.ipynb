{
 "cells": [
  {
   "cell_type": "code",
   "execution_count": 1,
   "id": "47becdb6-5739-438b-a56f-8092ae50201b",
   "metadata": {},
   "outputs": [
    {
     "name": "stdout",
     "output_type": "stream",
     "text": [
      "Before data cleaning\n",
      "+--------------------+--------------+------+-------+----+--------+----+-----+--------------+------------+---------------+-----------+------------+\n",
      "|                 App|      Category|Rating|Reviews|Size|Installs|Type|Price|Content Rating|      Genres|   Last Updated|Current Ver| Android Ver|\n",
      "+--------------------+--------------+------+-------+----+--------+----+-----+--------------+------------+---------------+-----------+------------+\n",
      "|Photo Editor & Ca...|ART_AND_DESIGN|   4.1|    159| 19M| 10,000+|Free|    0|      Everyone|Art & Design|January 7, 2018|      1.0.0|4.0.3 and up|\n",
      "+--------------------+--------------+------+-------+----+--------+----+-----+--------------+------------+---------------+-----------+------------+\n",
      "only showing top 1 row\n",
      "\n",
      "After data cleaning\n",
      "+--------------------+--------------+------+----+--------+----+-----+------------+-----------+\n",
      "|                 App|      Category|Rating|Size|Installs|Type|Price|      Genres|Current Ver|\n",
      "+--------------------+--------------+------+----+--------+----+-----+------------+-----------+\n",
      "|Photo Editor & Ca...|ART_AND_DESIGN|   4.1| 19M| 10,000+|Free|    0|Art & Design|      1.0.0|\n",
      "+--------------------+--------------+------+----+--------+----+-----+------------+-----------+\n",
      "only showing top 1 row\n",
      "\n",
      "+--------------------+--------------+------+----+--------+----+-----+--------------------+------------------+\n",
      "|                 App|      Category|Rating|Size|Installs|Type|Price|              Genres|       Current Ver|\n",
      "+--------------------+--------------+------+----+--------+----+-----+--------------------+------------------+\n",
      "|Photo Editor & Ca...|ART_AND_DESIGN|   4.1| 19M|    NULL|Free|    0|        Art & Design|             1.0.0|\n",
      "| Coloring book moana|ART_AND_DESIGN|   3.9| 14M|    NULL|Free|    0|Art & Design;Pret...|             2.0.0|\n",
      "|U Launcher Lite –...|ART_AND_DESIGN|   4.7|8.7M|    NULL|Free|    0|        Art & Design|             1.2.4|\n",
      "|Sketch - Draw & P...|ART_AND_DESIGN|   4.5| 25M|    NULL|Free|    0|        Art & Design|Varies with device|\n",
      "|Pixel Draw - Numb...|ART_AND_DESIGN|   4.3|2.8M|    NULL|Free|    0|Art & Design;Crea...|               1.1|\n",
      "|Paper flowers ins...|ART_AND_DESIGN|   4.4|5.6M|    NULL|Free|    0|        Art & Design|               1.0|\n",
      "|Smoke Effect Phot...|ART_AND_DESIGN|   3.8| 19M|    NULL|Free|    0|        Art & Design|               1.1|\n",
      "|    Infinite Painter|ART_AND_DESIGN|   4.1| 29M|    NULL|Free|    0|        Art & Design|          6.1.61.1|\n",
      "|Garden Coloring Book|ART_AND_DESIGN|   4.4| 33M|    NULL|Free|    0|        Art & Design|             2.9.2|\n",
      "|Kids Paint Free -...|ART_AND_DESIGN|   4.7|3.1M|    NULL|Free|    0|Art & Design;Crea...|               2.8|\n",
      "|Text on Photo - F...|ART_AND_DESIGN|   4.4| 28M|    NULL|Free|    0|        Art & Design|             1.0.4|\n",
      "|Name Art Photo Ed...|ART_AND_DESIGN|   4.4| 12M|    NULL|Free|    0|        Art & Design|            1.0.15|\n",
      "|Tattoo Name On My...|ART_AND_DESIGN|   4.2| 20M|    NULL|Free|    0|        Art & Design|               3.8|\n",
      "|Mandala Coloring ...|ART_AND_DESIGN|   4.6| 21M|    NULL|Free|    0|        Art & Design|             1.0.4|\n",
      "|3D Color Pixel by...|ART_AND_DESIGN|   4.4| 37M|    NULL|Free|    0|        Art & Design|             1.2.3|\n",
      "|Learn To Draw Kaw...|ART_AND_DESIGN|   3.2|2.7M|    NULL|Free|    0|        Art & Design|               NaN|\n",
      "|Photo Designer - ...|ART_AND_DESIGN|   4.7|5.5M|    NULL|Free|    0|        Art & Design|               3.1|\n",
      "|350 Diy Room Deco...|ART_AND_DESIGN|   4.5| 17M|    NULL|Free|    0|        Art & Design|               1.0|\n",
      "|FlipaClip - Carto...|ART_AND_DESIGN|   4.3| 39M|    NULL|Free|    0|        Art & Design|             2.2.5|\n",
      "|        ibis Paint X|ART_AND_DESIGN|   4.6| 31M|    NULL|Free|    0|        Art & Design|             5.5.4|\n",
      "+--------------------+--------------+------+----+--------+----+-----+--------------------+------------------+\n",
      "only showing top 20 rows\n",
      "\n"
     ]
    }
   ],
   "source": [
    "import pyspark, os, sys\n",
    "from pyspark.sql import *\n",
    "from pyspark import SparkConf,SparkContext\n",
    "from pyspark.sql.functions import *\n",
    "from pyspark.sql.types import *\n",
    "from pyspark.sql import types\n",
    "\n",
    "spark=SparkSession.builder.getOrCreate()\n",
    "\n",
    "df=spark.read.format(\"csv\").option(\"header\",True).option(\"sep\",\",\").option(\"inferSchema\",True).load(\"googleplaystore.csv\")\n",
    "print(\"Before data cleaning\")\n",
    "df.show(1)     #To check first record\n",
    "\n",
    "#To perform data cleaning , we will drop few columns which are not tha relevant\n",
    "print(\"After data cleaning\")\n",
    "df=df.drop(\"Reviews\", \"Content Rating\", \"Last Updated\", \"Android Ver\")\n",
    "\n",
    "df.show(1)\n",
    "\n",
    "#If you want to change the datatypes for the columns based on their values, you can try as below\n",
    "\n",
    "#Below we are removing sepcial charaters from values of 'Installs' column and we are changing datatype of 'Installs' column from StringType() to IntegerType()\n",
    "#Also we are removing $ symbols from values of 'Price' column and we are changing datatype of 'Price' from StringType() to IntegerType()\n",
    "df=df.withColumn(\"Installs\",regexp_replace(col(\"Installs\"),\"^[0-9]\",\"\"))\\\n",
    ".withColumn(\"Installs\",col(\"Installs\").cast(IntegerType()))\\\n",
    ".withColumn(\"Price\",regexp_replace(col(\"Price\"),\"[$]\",\"\"))\\\n",
    ".withColumn(\"Price\",col(\"Price\").cast(IntegerType()))\n",
    "\n",
    "df.show()\n",
    "\n"
   ]
  },
  {
   "cell_type": "code",
   "execution_count": null,
   "id": "f5b99829-b800-41c6-99ae-9bdc12df4227",
   "metadata": {},
   "outputs": [],
   "source": []
  }
 ],
 "metadata": {
  "kernelspec": {
   "display_name": "Python 3 (ipykernel)",
   "language": "python",
   "name": "python3"
  },
  "language_info": {
   "codemirror_mode": {
    "name": "ipython",
    "version": 3
   },
   "file_extension": ".py",
   "mimetype": "text/x-python",
   "name": "python",
   "nbconvert_exporter": "python",
   "pygments_lexer": "ipython3",
   "version": "3.12.3"
  }
 },
 "nbformat": 4,
 "nbformat_minor": 5
}
