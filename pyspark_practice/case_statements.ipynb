{
 "cells": [
  {
   "cell_type": "code",
   "execution_count": 3,
   "id": "3a784e4d-c667-484a-896f-638f25d4b504",
   "metadata": {},
   "outputs": [],
   "source": [
    "import pyspark, os, sys\n",
    "from pyspark.sql import *\n",
    "from pyspark import SparkConf,SparkContext\n",
    "from pyspark.sql.functions import when, expr\n",
    "from pyspark.sql.types import StructType, StringType,IntegerType, StructField"
   ]
  },
  {
   "cell_type": "code",
   "execution_count": 4,
   "id": "1f3ab009-ecb5-4b1c-bc1b-c57ba8040a9c",
   "metadata": {},
   "outputs": [],
   "source": [
    "spark=SparkSession.builder.getOrCreate()"
   ]
  },
  {
   "cell_type": "code",
   "execution_count": 4,
   "id": "b021b9c3-34f0-429f-89db-ca2a8ddd09a1",
   "metadata": {},
   "outputs": [
    {
     "name": "stdout",
     "output_type": "stream",
     "text": [
      "+---+----------------+------------+-------------+-------+--------+-----------+-------+-------------+-------------+-------------+-------------+-------------+-------------+-------------+\n",
      "| Id|Institution_Name| Branch_Name|Branch_Number|   City|  County|      State|Zipcode|2010_Deposits|2011_Deposits|2012_Deposits|2013_Deposits|2014_Deposits|2015_Deposits|2016_Deposits|\n",
      "+---+----------------+------------+-------------+-------+--------+-----------+-------+-------------+-------------+-------------+-------------+-------------+-------------+-------------+\n",
      "|  1|           abcde|      Bandra|          100| Mumbai| Western|Maharashtra| 400000|      9783849|       844848|      8484393|       834841|       284773|      7389298|       737839|\n",
      "|  2|            gdtd|Govind nagar|          101| Nashik| Eastern|Maharashtra|  41111|        64848|       836239|        53446|       834780|        76436|        98753|        23556|\n",
      "|  3|            huhu|Shivaji park|          102| Mumbai| Western|Maharashtra| 400000|       738282|       618151|       878776|       676755|       343567|      2457445|       764538|\n",
      "|  4|            gstu|       Bronx|          500|Newyork|Northern|         NY|  10000|      7632927|       652818|       787565|      1234556|      4545734|     67545454|         4543|\n",
      "|  5|           ppaio|   Manhattan|          501|Newyork| Central|         NY|  10001|       729929|       638828|       517829|      4291873|       743778|       122738|       737728|\n",
      "+---+----------------+------------+-------------+-------+--------+-----------+-------+-------------+-------------+-------------+-------------+-------------+-------------+-------------+\n",
      "\n"
     ]
    }
   ],
   "source": [
    "df=spark.read.format(\"csv\").option(\"header\",True).load(\"sample1.csv\").show()"
   ]
  },
  {
   "cell_type": "code",
   "execution_count": 6,
   "id": "1c01f430-d352-4fd3-b443-d0cd03228f4d",
   "metadata": {},
   "outputs": [
    {
     "ename": "AttributeError",
     "evalue": "'NoneType' object has no attribute 'withColumn'",
     "output_type": "error",
     "traceback": [
      "\u001b[1;31m---------------------------------------------------------------------------\u001b[0m",
      "\u001b[1;31mAttributeError\u001b[0m                            Traceback (most recent call last)",
      "Cell \u001b[1;32mIn[6], line 4\u001b[0m\n\u001b[0;32m      1\u001b[0m \u001b[38;5;66;03m#when/otherwise statement\u001b[39;00m\n\u001b[0;32m      2\u001b[0m \n\u001b[0;32m      3\u001b[0m \u001b[38;5;66;03m#To change the values in Institution_name column: \u001b[39;00m\n\u001b[1;32m----> 4\u001b[0m df1\u001b[38;5;241m=\u001b[39m\u001b[43mdf\u001b[49m\u001b[38;5;241;43m.\u001b[39;49m\u001b[43mwithColumn\u001b[49m(\u001b[38;5;124m\"\u001b[39m\u001b[38;5;124mInstitution_Name\u001b[39m\u001b[38;5;124m\"\u001b[39m, when(df\u001b[38;5;241m.\u001b[39mCity\u001b[38;5;241m==\u001b[39m\u001b[38;5;124m'\u001b[39m\u001b[38;5;124mNashik\u001b[39m\u001b[38;5;124m'\u001b[39m, \u001b[38;5;124m\"\u001b[39m\u001b[38;5;124mHopkins\u001b[39m\u001b[38;5;124m\"\u001b[39m)\n\u001b[0;32m      5\u001b[0m                                         \u001b[38;5;241m.\u001b[39mwhen(df\u001b[38;5;241m.\u001b[39mCity\u001b[38;5;241m==\u001b[39m\u001b[38;5;124m'\u001b[39m\u001b[38;5;124mMumbai\u001b[39m\u001b[38;5;124m'\u001b[39m,\u001b[38;5;124m\"\u001b[39m\u001b[38;5;124mStanford\u001b[39m\u001b[38;5;124m\"\u001b[39m)\n\u001b[0;32m      6\u001b[0m                                          \u001b[38;5;241m.\u001b[39motherwise(\u001b[38;5;124m\"\u001b[39m\u001b[38;5;124mNYU\u001b[39m\u001b[38;5;124m\"\u001b[39m))\n\u001b[0;32m      7\u001b[0m display(df1)\n\u001b[0;32m      9\u001b[0m \u001b[38;5;66;03m#To create a new column in dataframe using when conditions:\u001b[39;00m\n",
      "\u001b[1;31mAttributeError\u001b[0m: 'NoneType' object has no attribute 'withColumn'"
     ]
    }
   ],
   "source": [
    "#when/otherwise statement\n",
    "\n",
    "#To change the values in Institution_name column: \n",
    "df1=df.withColumn(\"Institution_Name\", when(df.City=='Nashik', \"Hopkins\")\n",
    "                                        .when(df.City=='Mumbai',\"Stanford\")\n",
    "                                         .otherwise(\"NYU\"))\n",
    "display(df1)\n",
    "\n",
    "#To create a new column in dataframe using when conditions:\n",
    "df2=df.withColumn(\"College_Name\", when(df.City=='Nashik', \"Hopkins\")\n",
    "                                      .when(df.City=='Mumbai', \"Stanford\")\n",
    "                                      .otherwise(\"NYU\"))\n",
    "display(df2)"
   ]
  },
  {
   "cell_type": "code",
   "execution_count": 7,
   "id": "41436f51-9a5c-4219-9eab-6478a927fbb2",
   "metadata": {},
   "outputs": [
    {
     "ename": "AttributeError",
     "evalue": "'NoneType' object has no attribute 'withColumn'",
     "output_type": "error",
     "traceback": [
      "\u001b[1;31m---------------------------------------------------------------------------\u001b[0m",
      "\u001b[1;31mAttributeError\u001b[0m                            Traceback (most recent call last)",
      "Cell \u001b[1;32mIn[7], line 3\u001b[0m\n\u001b[0;32m      1\u001b[0m \u001b[38;5;66;03m#Different Syntax To change the values in Institution_name column:\u001b[39;00m\n\u001b[1;32m----> 3\u001b[0m df1\u001b[38;5;241m=\u001b[39m\u001b[43mdf\u001b[49m\u001b[38;5;241;43m.\u001b[39;49m\u001b[43mwithColumn\u001b[49m(\u001b[38;5;124m\"\u001b[39m\u001b[38;5;124mInstitution_Name\u001b[39m\u001b[38;5;124m\"\u001b[39m, expr(\u001b[38;5;124m\"\u001b[39m\u001b[38;5;124mCASE WHEN City==\u001b[39m\u001b[38;5;124m'\u001b[39m\u001b[38;5;124mNashik\u001b[39m\u001b[38;5;124m'\u001b[39m\u001b[38;5;124m THEN \u001b[39m\u001b[38;5;124m'\u001b[39m\u001b[38;5;124mHopkins\u001b[39m\u001b[38;5;124m'\u001b[39m\u001b[38;5;124m\"\u001b[39m \u001b[38;5;241m+\u001b[39m\n\u001b[0;32m      4\u001b[0m                                               \u001b[38;5;124m\"\u001b[39m\u001b[38;5;124mWHEN City==\u001b[39m\u001b[38;5;124m'\u001b[39m\u001b[38;5;124mMumbai\u001b[39m\u001b[38;5;124m'\u001b[39m\u001b[38;5;124m THEN \u001b[39m\u001b[38;5;124m'\u001b[39m\u001b[38;5;124mStanford\u001b[39m\u001b[38;5;124m'\u001b[39m\u001b[38;5;124m\"\u001b[39m \u001b[38;5;241m+\u001b[39m \n\u001b[0;32m      5\u001b[0m                                                   \u001b[38;5;124m\"\u001b[39m\u001b[38;5;124mELSE \u001b[39m\u001b[38;5;124m'\u001b[39m\u001b[38;5;124mNYU\u001b[39m\u001b[38;5;124m'\u001b[39m\u001b[38;5;124m END\u001b[39m\u001b[38;5;124m\"\u001b[39m))\n\u001b[0;32m      7\u001b[0m display(df1)\n",
      "\u001b[1;31mAttributeError\u001b[0m: 'NoneType' object has no attribute 'withColumn'"
     ]
    }
   ],
   "source": [
    "#Different Syntax To change the values in Institution_name column:\n",
    "\n",
    "df1=df.withColumn(\"Institution_Name\", expr(\"CASE WHEN City=='Nashik' THEN 'Hopkins'\" +\n",
    "                                              \"WHEN City=='Mumbai' THEN 'Stanford'\" + \n",
    "                                                  \"ELSE 'NYU' END\"))\n",
    "\n",
    "display(df1)"
   ]
  },
  {
   "cell_type": "code",
   "execution_count": 18,
   "id": "ad8f4132-4695-41ec-bac8-da1386ee9d3b",
   "metadata": {},
   "outputs": [
    {
     "ename": "AttributeError",
     "evalue": "'NoneType' object has no attribute 'withColumn'",
     "output_type": "error",
     "traceback": [
      "\u001b[1;31m---------------------------------------------------------------------------\u001b[0m",
      "\u001b[1;31mAttributeError\u001b[0m                            Traceback (most recent call last)",
      "Cell \u001b[1;32mIn[18], line 3\u001b[0m\n\u001b[0;32m      1\u001b[0m \u001b[38;5;66;03m#Multiple conditions in when statement:\u001b[39;00m\n\u001b[1;32m----> 3\u001b[0m df1\u001b[38;5;241m=\u001b[39m\u001b[43mdf\u001b[49m\u001b[38;5;241;43m.\u001b[39;49m\u001b[43mwithColumn\u001b[49m(\u001b[38;5;124m\"\u001b[39m\u001b[38;5;124mInstitution_Name\u001b[39m\u001b[38;5;124m\"\u001b[39m, when((df\u001b[38;5;241m.\u001b[39mCity\u001b[38;5;241m==\u001b[39m\u001b[38;5;124m'\u001b[39m\u001b[38;5;124mNashik\u001b[39m\u001b[38;5;124m'\u001b[39m) \u001b[38;5;241m&\u001b[39m (df\u001b[38;5;241m.\u001b[39mCounty\u001b[38;5;241m==\u001b[39m\u001b[38;5;124m'\u001b[39m\u001b[38;5;124mWestern\u001b[39m\u001b[38;5;124m'\u001b[39m), \u001b[38;5;124m'\u001b[39m\u001b[38;5;124mHopkins\u001b[39m\u001b[38;5;124m'\u001b[39m)\n\u001b[0;32m      4\u001b[0m                                     \u001b[38;5;241m.\u001b[39mwhen((df\u001b[38;5;241m.\u001b[39mCity\u001b[38;5;241m==\u001b[39m\u001b[38;5;124m'\u001b[39m\u001b[38;5;124mMumbai\u001b[39m\u001b[38;5;124m'\u001b[39m) \u001b[38;5;241m&\u001b[39m (df\u001b[38;5;241m.\u001b[39mCounty\u001b[38;5;241m==\u001b[39m\u001b[38;5;124m'\u001b[39m\u001b[38;5;124mWestern\u001b[39m\u001b[38;5;124m'\u001b[39m), \u001b[38;5;124m'\u001b[39m\u001b[38;5;124mStanford\u001b[39m\u001b[38;5;124m'\u001b[39m)\n\u001b[0;32m      5\u001b[0m                                     \u001b[38;5;241m.\u001b[39motherwise(\u001b[38;5;124m'\u001b[39m\u001b[38;5;124mNYU\u001b[39m\u001b[38;5;124m'\u001b[39m))\n\u001b[0;32m      7\u001b[0m display(df1)\n",
      "\u001b[1;31mAttributeError\u001b[0m: 'NoneType' object has no attribute 'withColumn'"
     ]
    }
   ],
   "source": [
    "#Multiple conditions in when statement:\n",
    "\n",
    "df1=df.withColumn(\"Institution_Name\", when((df.City=='Nashik') & (df.County=='Western'), 'Hopkins')\n",
    "                                    .when((df.City=='Mumbai') & (df.County=='Western'), 'Stanford')\n",
    "                                    .otherwise('NYU'))\n",
    "\n",
    "display(df1)"
   ]
  },
  {
   "cell_type": "code",
   "execution_count": 5,
   "id": "b64f4644-afeb-47b6-b916-0455e6540b25",
   "metadata": {},
   "outputs": [
    {
     "data": {
      "text/plain": [
       "DataFrame[Id: int, Name: string, Salary: int]"
      ]
     },
     "metadata": {},
     "output_type": "display_data"
    }
   ],
   "source": [
    "emp_data=[(1,'Rishi',29409),(2,\"Nachi\",294785),(3,\"Mahesh\",45663),(4,\"Akash\",73639)]\n",
    "\n",
    "emp_schema=StructType([StructField('Id', IntegerType(), True),\n",
    "                          StructField('Name',StringType(), True),\n",
    "                          StructField('Salary',IntegerType(), True)])\n",
    "\n",
    "emp_df=spark.createDataFrame(data=emp_data, schema=emp_schema)\n",
    "\n",
    "display(emp_df)"
   ]
  },
  {
   "cell_type": "code",
   "execution_count": 10,
   "id": "c09fd648-6253-4751-8a5f-cffa35ea9ac5",
   "metadata": {},
   "outputs": [
    {
     "data": {
      "text/plain": [
       "DataFrame[Id: int, Name: string, Salary: int, Status: string]"
      ]
     },
     "metadata": {},
     "output_type": "display_data"
    }
   ],
   "source": [
    "df_final=emp_df.withColumn('Status', when(emp_df.Id>2, 'Pass')\n",
    "                                      .otherwise('Fail'))\n",
    "\n",
    "display(df_final)\n",
    "\n",
    "#df_final.show()"
   ]
  },
  {
   "cell_type": "code",
   "execution_count": null,
   "id": "d6a3593d-ed2d-4650-8977-2fe61657ba3f",
   "metadata": {},
   "outputs": [],
   "source": []
  }
 ],
 "metadata": {
  "kernelspec": {
   "display_name": "Python 3 (ipykernel)",
   "language": "python",
   "name": "python3"
  },
  "language_info": {
   "codemirror_mode": {
    "name": "ipython",
    "version": 3
   },
   "file_extension": ".py",
   "mimetype": "text/x-python",
   "name": "python",
   "nbconvert_exporter": "python",
   "pygments_lexer": "ipython3",
   "version": "3.12.3"
  }
 },
 "nbformat": 4,
 "nbformat_minor": 5
}
