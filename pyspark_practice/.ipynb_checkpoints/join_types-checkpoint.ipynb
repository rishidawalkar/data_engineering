{
 "cells": [
  {
   "cell_type": "code",
   "execution_count": 7,
   "id": "4267e767-4806-4bb5-b0b3-997e7d85599d",
   "metadata": {},
   "outputs": [],
   "source": [
    "import pyspark, os, sys\n",
    "from pyspark import SparkConf,SparkContext\n",
    "from pyspark.sql.functions import when, expr\n",
    "from pyspark.sql.types import StructType, StringType,IntegerType, StructField"
   ]
  },
  {
   "cell_type": "code",
   "execution_count": 2,
   "id": "184e9bc0-b26b-4b09-85fa-f8f78039bc1b",
   "metadata": {},
   "outputs": [],
   "source": [
    "from pyspark.sql import *"
   ]
  },
  {
   "cell_type": "code",
   "execution_count": 3,
   "id": "2cf520ab-a1ec-4df8-9db3-d05afcc5b379",
   "metadata": {},
   "outputs": [],
   "source": [
    "from pyspark import SparkConf,SparkContext\n",
    "os.environ['PYSPARK_PYTHON'] = sys.executable\n",
    "os.environ['PYSPARK_DRIVER_PYTHON'] = sys.executable"
   ]
  },
  {
   "cell_type": "code",
   "execution_count": 4,
   "id": "353c9036-46c5-4817-a319-585861b6c674",
   "metadata": {},
   "outputs": [],
   "source": [
    "spark=SparkSession.builder.getOrCreate()"
   ]
  },
  {
   "cell_type": "code",
   "execution_count": 5,
   "id": "fc031556-9595-40aa-92ac-efb39a806778",
   "metadata": {},
   "outputs": [
    {
     "name": "stdout",
     "output_type": "stream",
     "text": [
      "+---+----------------+------------+-------------+-------+--------+-----------+-------+-------------+-------------+-------------+-------------+-------------+-------------+-------------+\n",
      "| Id|Institution_Name| Branch_Name|Branch_Number|   City|  County|      State|Zipcode|2010_Deposits|2011_Deposits|2012_Deposits|2013_Deposits|2014_Deposits|2015_Deposits|2016_Deposits|\n",
      "+---+----------------+------------+-------------+-------+--------+-----------+-------+-------------+-------------+-------------+-------------+-------------+-------------+-------------+\n",
      "|  1|           abcde|      Bandra|          100| Mumbai| Western|Maharashtra| 400000|      9783849|       844848|      8484393|       834841|       284773|      7389298|       737839|\n",
      "|  2|            gdtd|Govind nagar|          101| Nashik| Eastern|Maharashtra|  41111|        64848|       836239|        53446|       834780|        76436|        98753|        23556|\n",
      "|  3|            huhu|Shivaji park|          102| Mumbai| Western|Maharashtra| 400000|       738282|       618151|       878776|       676755|       343567|      2457445|       764538|\n",
      "|  4|            gstu|       Bronx|          500|Newyork|Northern|         NY|  10000|      7632927|       652818|       787565|      1234556|      4545734|     67545454|         4543|\n",
      "|  5|           ppaio|   Manhattan|          501|Newyork| Central|         NY|  10001|       729929|       638828|       517829|      4291873|       743778|       122738|       737728|\n",
      "+---+----------------+------------+-------------+-------+--------+-----------+-------+-------------+-------------+-------------+-------------+-------------+-------------+-------------+\n",
      "\n"
     ]
    }
   ],
   "source": [
    "df=spark.read.format(\"csv\").option(\"header\",True).load(\"sample1.csv\").show()"
   ]
  },
  {
   "cell_type": "code",
   "execution_count": 10,
   "id": "2f3be78a-88c9-45c2-bd6e-599f29c30667",
   "metadata": {},
   "outputs": [
    {
     "data": {
      "text/plain": [
       "DataFrame[Id: int, Name: string, Salary: int]"
      ]
     },
     "metadata": {},
     "output_type": "display_data"
    }
   ],
   "source": [
    "emp_data=[(1,'Rishi',29409),(2,\"Nachi\",294785),(3,\"Mahesh\",45663),(4,\"Akash\",73639)]\n",
    "\n",
    "emp_schema=StructType([\n",
    "        StructField('Id',IntegerType(), True),\n",
    "        StructField('Name', StringType(), True),\n",
    "        StructField('Salary', IntegerType(), True)\n",
    "])\n",
    "\n",
    "emp_df=spark.createDataFrame(data=emp_data, schema=emp_schema)\n",
    "\n",
    "display(emp_df)"
   ]
  },
  {
   "cell_type": "code",
   "execution_count": 11,
   "id": "9fffbd0c-b67e-4a52-b584-00f2fd57f173",
   "metadata": {},
   "outputs": [
    {
     "ename": "AttributeError",
     "evalue": "'NoneType' object has no attribute 'join'",
     "output_type": "error",
     "traceback": [
      "\u001b[1;31m---------------------------------------------------------------------------\u001b[0m",
      "\u001b[1;31mAttributeError\u001b[0m                            Traceback (most recent call last)",
      "Cell \u001b[1;32mIn[11], line 2\u001b[0m\n\u001b[0;32m      1\u001b[0m \u001b[38;5;66;03m#inner join \u001b[39;00m\n\u001b[1;32m----> 2\u001b[0m inner_df\u001b[38;5;241m=\u001b[39m\u001b[43mdf\u001b[49m\u001b[38;5;241;43m.\u001b[39;49m\u001b[43mjoin\u001b[49m(emp_df,df\u001b[38;5;241m.\u001b[39mId\u001b[38;5;241m==\u001b[39memp_df\u001b[38;5;241m.\u001b[39mId,\u001b[38;5;124m\"\u001b[39m\u001b[38;5;124minner\u001b[39m\u001b[38;5;124m\"\u001b[39m)\n\u001b[0;32m      3\u001b[0m display(inner_df)\n",
      "\u001b[1;31mAttributeError\u001b[0m: 'NoneType' object has no attribute 'join'"
     ]
    }
   ],
   "source": [
    "#inner join \n",
    "inner_df=df.join(emp_df,df.Id==emp_df.Id,\"inner\")\n",
    "display(inner_df)"
   ]
  },
  {
   "cell_type": "code",
   "execution_count": 12,
   "id": "64e3559c-af84-4179-a0ec-6e0139fef906",
   "metadata": {},
   "outputs": [
    {
     "ename": "AttributeError",
     "evalue": "'NoneType' object has no attribute 'join'",
     "output_type": "error",
     "traceback": [
      "\u001b[1;31m---------------------------------------------------------------------------\u001b[0m",
      "\u001b[1;31mAttributeError\u001b[0m                            Traceback (most recent call last)",
      "Cell \u001b[1;32mIn[12], line 2\u001b[0m\n\u001b[0;32m      1\u001b[0m \u001b[38;5;66;03m#full outer join\u001b[39;00m\n\u001b[1;32m----> 2\u001b[0m full_df\u001b[38;5;241m=\u001b[39m\u001b[43mdf\u001b[49m\u001b[38;5;241;43m.\u001b[39;49m\u001b[43mjoin\u001b[49m(emp_df,df\u001b[38;5;241m.\u001b[39mId\u001b[38;5;241m==\u001b[39memp_df\u001b[38;5;241m.\u001b[39mId, \u001b[38;5;124m\"\u001b[39m\u001b[38;5;124mfull\u001b[39m\u001b[38;5;124m\"\u001b[39m)\n\u001b[0;32m      3\u001b[0m display(full_df)\n\u001b[0;32m      4\u001b[0m \u001b[38;5;66;03m#Note: You can use 'full' or 'outer' or 'fullouter' keyword for this join\u001b[39;00m\n",
      "\u001b[1;31mAttributeError\u001b[0m: 'NoneType' object has no attribute 'join'"
     ]
    }
   ],
   "source": [
    "#full outer join\n",
    "full_df=df.join(emp_df,df.Id==emp_df.Id, \"full\")\n",
    "display(full_df)\n",
    "#Note: You can use 'full' or 'outer' or 'fullouter' keyword for this join"
   ]
  },
  {
   "cell_type": "code",
   "execution_count": 13,
   "id": "8b04c3bc-40f5-4b58-a275-ba48baea32e7",
   "metadata": {},
   "outputs": [
    {
     "ename": "AttributeError",
     "evalue": "'NoneType' object has no attribute 'join'",
     "output_type": "error",
     "traceback": [
      "\u001b[1;31m---------------------------------------------------------------------------\u001b[0m",
      "\u001b[1;31mAttributeError\u001b[0m                            Traceback (most recent call last)",
      "Cell \u001b[1;32mIn[13], line 2\u001b[0m\n\u001b[0;32m      1\u001b[0m \u001b[38;5;66;03m#left join\u001b[39;00m\n\u001b[1;32m----> 2\u001b[0m left_df\u001b[38;5;241m=\u001b[39m\u001b[43mdf\u001b[49m\u001b[38;5;241;43m.\u001b[39;49m\u001b[43mjoin\u001b[49m(emp_df,df\u001b[38;5;241m.\u001b[39mId\u001b[38;5;241m==\u001b[39memp_df\u001b[38;5;241m.\u001b[39mId,\u001b[38;5;124m\"\u001b[39m\u001b[38;5;124mleft\u001b[39m\u001b[38;5;124m\"\u001b[39m)\n\u001b[0;32m      3\u001b[0m display(left_df)\n",
      "\u001b[1;31mAttributeError\u001b[0m: 'NoneType' object has no attribute 'join'"
     ]
    }
   ],
   "source": [
    "#left join\n",
    "left_df=df.join(emp_df,df.Id==emp_df.Id,\"left\")\n",
    "display(left_df)"
   ]
  },
  {
   "cell_type": "code",
   "execution_count": 14,
   "id": "63f5d2ab-f9cb-4640-9f40-3f307adfe422",
   "metadata": {},
   "outputs": [
    {
     "ename": "AttributeError",
     "evalue": "'NoneType' object has no attribute 'join'",
     "output_type": "error",
     "traceback": [
      "\u001b[1;31m---------------------------------------------------------------------------\u001b[0m",
      "\u001b[1;31mAttributeError\u001b[0m                            Traceback (most recent call last)",
      "Cell \u001b[1;32mIn[14], line 2\u001b[0m\n\u001b[0;32m      1\u001b[0m \u001b[38;5;66;03m#right join\u001b[39;00m\n\u001b[1;32m----> 2\u001b[0m right_df\u001b[38;5;241m=\u001b[39m\u001b[43mdf\u001b[49m\u001b[38;5;241;43m.\u001b[39;49m\u001b[43mjoin\u001b[49m(emp_df,df\u001b[38;5;241m.\u001b[39mId\u001b[38;5;241m==\u001b[39memp_df\u001b[38;5;241m.\u001b[39mId,\u001b[38;5;124m\"\u001b[39m\u001b[38;5;124mright\u001b[39m\u001b[38;5;124m\"\u001b[39m)\n\u001b[0;32m      3\u001b[0m display(right_df)\n",
      "\u001b[1;31mAttributeError\u001b[0m: 'NoneType' object has no attribute 'join'"
     ]
    }
   ],
   "source": [
    "#right join\n",
    "right_df=df.join(emp_df,df.Id==emp_df.Id,\"right\")\n",
    "display(right_df)"
   ]
  }
 ],
 "metadata": {
  "kernelspec": {
   "display_name": "pythonlab",
   "language": "python",
   "name": "pythonlab"
  },
  "language_info": {
   "codemirror_mode": {
    "name": "ipython",
    "version": 3
   },
   "file_extension": ".py",
   "mimetype": "text/x-python",
   "name": "python",
   "nbconvert_exporter": "python",
   "pygments_lexer": "ipython3",
   "version": "3.12.3"
  }
 },
 "nbformat": 4,
 "nbformat_minor": 5
}
