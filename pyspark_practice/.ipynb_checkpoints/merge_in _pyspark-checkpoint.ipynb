{
 "cells": [
  {
   "cell_type": "code",
   "execution_count": 12,
   "id": "84800f4b-f8e0-4399-8346-a75d90e82ba6",
   "metadata": {},
   "outputs": [
    {
     "data": {
      "text/plain": [
       "DataFrame[emp_id: int, name: string, city: string, country: string, contact_no: int]"
      ]
     },
     "metadata": {},
     "output_type": "display_data"
    },
    {
     "ename": "TypeError",
     "evalue": "'JavaPackage' object is not callable",
     "output_type": "error",
     "traceback": [
      "\u001b[1;31m---------------------------------------------------------------------------\u001b[0m",
      "\u001b[1;31mTypeError\u001b[0m                                 Traceback (most recent call last)",
      "Cell \u001b[1;32mIn[12], line 33\u001b[0m\n\u001b[0;32m     30\u001b[0m df\u001b[38;5;241m=\u001b[39mspark\u001b[38;5;241m.\u001b[39mcreateDataFrame(data, schema)\n\u001b[0;32m     32\u001b[0m \u001b[38;5;66;03m#delta_df is the target dataframe\u001b[39;00m\n\u001b[1;32m---> 33\u001b[0m delta_df\u001b[38;5;241m=\u001b[39m\u001b[43mDeltaTable\u001b[49m\u001b[38;5;241;43m.\u001b[39;49m\u001b[43mforPath\u001b[49m\u001b[43m(\u001b[49m\u001b[43mspark\u001b[49m\u001b[43m,\u001b[49m\u001b[43m \u001b[49m\u001b[38;5;124;43m\"\u001b[39;49m\u001b[38;5;124;43m/pyspark_practice/delta_merge\u001b[39;49m\u001b[38;5;124;43m\"\u001b[39;49m\u001b[43m)\u001b[49m\n\u001b[0;32m     35\u001b[0m \u001b[38;5;66;03m#below is merge operation between both source and target dataframes (df and delta_df) logic: \u001b[39;00m\n\u001b[0;32m     36\u001b[0m delta_df\u001b[38;5;241m.\u001b[39malias(\u001b[38;5;124m\"\u001b[39m\u001b[38;5;124mtarget\u001b[39m\u001b[38;5;124m\"\u001b[39m)\u001b[38;5;241m.\u001b[39mmerge(\n\u001b[0;32m     37\u001b[0m     source\u001b[38;5;241m=\u001b[39mdf\u001b[38;5;241m.\u001b[39malias(\u001b[38;5;124m\"\u001b[39m\u001b[38;5;124msource\u001b[39m\u001b[38;5;124m\"\u001b[39m),\n\u001b[0;32m     38\u001b[0m     condition\u001b[38;5;241m=\u001b[39m\u001b[38;5;124m\"\u001b[39m\u001b[38;5;124mtarget.emp_id==source.emp_id\u001b[39m\u001b[38;5;124m\"\u001b[39m    \u001b[38;5;66;03m#here we are checking whether emp_id of df == emp_id delta_df\u001b[39;00m\n\u001b[1;32m   (...)\u001b[0m\n\u001b[0;32m     49\u001b[0m     \u001b[38;5;124m\"\u001b[39m\u001b[38;5;124mcontact_no\u001b[39m\u001b[38;5;124m\"\u001b[39m:\u001b[38;5;124m\"\u001b[39m\u001b[38;5;124msource.contact_no\u001b[39m\u001b[38;5;124m\"\u001b[39m   \u001b[38;5;66;03m#If its new record, then insert new records in delta_df\u001b[39;00m\n\u001b[0;32m     50\u001b[0m })\u001b[38;5;241m.\u001b[39mexecute()\n",
      "File \u001b[1;32m~\\pythonlab\\Lib\\site-packages\\delta\\tables.py:387\u001b[0m, in \u001b[0;36mDeltaTable.forPath\u001b[1;34m(cls, sparkSession, path, hadoopConf)\u001b[0m\n\u001b[0;32m    384\u001b[0m jvm: \u001b[38;5;124m\"\u001b[39m\u001b[38;5;124mJVMView\u001b[39m\u001b[38;5;124m\"\u001b[39m \u001b[38;5;241m=\u001b[39m sparkSession\u001b[38;5;241m.\u001b[39m_sc\u001b[38;5;241m.\u001b[39m_jvm  \u001b[38;5;66;03m# type: ignore[attr-defined]\u001b[39;00m\n\u001b[0;32m    385\u001b[0m jsparkSession: \u001b[38;5;124m\"\u001b[39m\u001b[38;5;124mJavaObject\u001b[39m\u001b[38;5;124m\"\u001b[39m \u001b[38;5;241m=\u001b[39m sparkSession\u001b[38;5;241m.\u001b[39m_jsparkSession  \u001b[38;5;66;03m# type: ignore[attr-defined]\u001b[39;00m\n\u001b[1;32m--> 387\u001b[0m jdt \u001b[38;5;241m=\u001b[39m \u001b[43mjvm\u001b[49m\u001b[38;5;241;43m.\u001b[39;49m\u001b[43mio\u001b[49m\u001b[38;5;241;43m.\u001b[39;49m\u001b[43mdelta\u001b[49m\u001b[38;5;241;43m.\u001b[39;49m\u001b[43mtables\u001b[49m\u001b[38;5;241;43m.\u001b[39;49m\u001b[43mDeltaTable\u001b[49m\u001b[38;5;241;43m.\u001b[39;49m\u001b[43mforPath\u001b[49m\u001b[43m(\u001b[49m\u001b[43mjsparkSession\u001b[49m\u001b[43m,\u001b[49m\u001b[43m \u001b[49m\u001b[43mpath\u001b[49m\u001b[43m,\u001b[49m\u001b[43m \u001b[49m\u001b[43mhadoopConf\u001b[49m\u001b[43m)\u001b[49m\n\u001b[0;32m    388\u001b[0m \u001b[38;5;28;01mreturn\u001b[39;00m DeltaTable(sparkSession, jdt)\n",
      "\u001b[1;31mTypeError\u001b[0m: 'JavaPackage' object is not callable"
     ]
    }
   ],
   "source": [
    "import pyspark, os, sys\n",
    "from pyspark.sql import *\n",
    "from pyspark import SparkConf,SparkContext\n",
    "from pyspark.sql.functions import *\n",
    "from pyspark.sql.types import *\n",
    "from pyspark.sql import types\n",
    "from py4j.java_gateway import java_import\n",
    "#%pip install delta-spark\n",
    "from delta.tables import *   \n",
    "#to create delta dataframe in particular location we need this library \n",
    "\n",
    "spark=SparkSession.builder.getOrCreate()\n",
    "\n",
    "schema=StructType([\n",
    "    StructField(\"emp_id\", IntegerType(), True),\n",
    "    StructField(\"name\", StringType(), True),\n",
    "    StructField(\"city\", StringType(), True),\n",
    "    StructField(\"country\", StringType(), True),\n",
    "    StructField(\"contact_no\", IntegerType(), True)\n",
    "])\n",
    "\n",
    "data=[(1000, \"John\", \"NYC\", \"USA\", 9846472)]\n",
    "#'df' is our source dataframe\n",
    "df=spark.createDataFrame(data, schema)\n",
    "display(df)\n",
    "\n",
    "\n",
    "#now we will insert few records, one would have same emp_id as earlier record but we are chaning the 'name' column and other record will be new.\n",
    "data=[(1000, \"Steve\", \"NYC\", \"USA\", 9846472), (2000, \"Peter\", \"London\", \"UK\", 1003833)]\n",
    "df=spark.createDataFrame(data, schema)\n",
    "\n",
    "#delta_df is the target dataframe\n",
    "delta_df=DeltaTable.forPath(spark, \"/pyspark_practice/delta_merge\")\n",
    "\n",
    "#below is merge operation between both source and target dataframes (df and delta_df) logic: \n",
    "delta_df.alias(\"target\").merge(\n",
    "    source=df.alias(\"source\"),\n",
    "    condition=\"target.emp_id==source.emp_id\"    #here we are checking whether emp_id of df == emp_id delta_df\n",
    ").whenMatchedUpdate(set={\n",
    "    \"name\":\"source.name\",\n",
    "    \"city\":\"source.id\",\n",
    "    \"country\":\"source.country\",\n",
    "    \"contact_no\":\"source.contact_no\"     #If emp_id of df == emp_id delta_df, then set new values to the existing emp_id\n",
    "}).whenNotMatchedInsert(values={\n",
    "    \"emp_id\":\"source.emp_id\",\n",
    "    \"name\":\"source.name\",\n",
    "    \"city\":\"source.id\",\n",
    "    \"country\":\"source.country\",\n",
    "    \"contact_no\":\"source.contact_no\"   #If its new record, then insert new records in delta_df\n",
    "}).execute()\n",
    "\n",
    "\n",
    "display(delta_df)\n",
    "\n",
    "#The main difference between Join() and merge() is : \n",
    "#In join(), we are just selecting/retrieving based on the provided condition. \n",
    "#But In merge(), we can perform updation of existing records based on the common columns between 2 dataframes or we can insert new records"
   ]
  }
 ],
 "metadata": {
  "kernelspec": {
   "display_name": "Python 3 (ipykernel)",
   "language": "python",
   "name": "python3"
  },
  "language_info": {
   "codemirror_mode": {
    "name": "ipython",
    "version": 3
   },
   "file_extension": ".py",
   "mimetype": "text/x-python",
   "name": "python",
   "nbconvert_exporter": "python",
   "pygments_lexer": "ipython3",
   "version": "3.12.3"
  }
 },
 "nbformat": 4,
 "nbformat_minor": 5
}
