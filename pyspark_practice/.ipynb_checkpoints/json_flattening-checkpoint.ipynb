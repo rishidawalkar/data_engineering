{
 "cells": [
  {
   "cell_type": "code",
   "execution_count": 5,
   "id": "41993526-86bf-462d-95b4-c030a7a37e46",
   "metadata": {},
   "outputs": [
    {
     "ename": "SyntaxError",
     "evalue": "cannot assign to literal (2618396434.py, line 10)",
     "output_type": "error",
     "traceback": [
      "\u001b[1;36m  Cell \u001b[1;32mIn[5], line 10\u001b[1;36m\u001b[0m\n\u001b[1;33m    \"example_json\"={[\u001b[0m\n\u001b[1;37m    ^\u001b[0m\n\u001b[1;31mSyntaxError\u001b[0m\u001b[1;31m:\u001b[0m cannot assign to literal\n"
     ]
    }
   ],
   "source": [
    "import pyspark, os, sys\n",
    "from pyspark.sql import *\n",
    "from pyspark import SparkConf,SparkContext\n",
    "from pyspark.sql.functions import *\n",
    "from pyspark.sql.types import *\n",
    "from pyspark.sql import types\n",
    "\n",
    "spark=SparkSession.builder.getOrCreate()\n",
    "\n",
    "\"example_json\"={[\n",
    "\"id\": \"1\",\n",
    "\"full_name\": [\n",
    "{\n",
    "    \"first_name\": \"Jacob\",\n",
    "    \"last_name\": \"Jack\"\n",
    "}\n",
    "],\n",
    "\"role\": \"developer\"\n",
    "]}\n",
    "\n",
    "schema = StructField(\"id\", StringType(), True),\n",
    "StructField(\"full_name\", StructType([\n",
    "        StructField(\"first_name\", StringType(), True),\n",
    "        StructField(\"last_name\", StringType(), True)\n",
    "        ]), True),\n",
    "StructField(\"role\", StringType(), True)\n",
    "\n",
    "\n",
    "\n",
    "data=[(str(example_json))]\n",
    "df=spark.read.option(\"multiline\", \"true\").option('inferSchema', False).json(\"example.json\")\n",
    "\n",
    "df=spark.createDataFrame(data=data,schema = schema)"
   ]
  },
  {
   "cell_type": "code",
   "execution_count": 5,
   "id": "f67c94c6-4d25-4b69-94b5-8bd91d73e0c5",
   "metadata": {},
   "outputs": [],
   "source": [
    "def flatten(df):\n",
    "    complex_fields=dict([(field.name, field.dataType)        #dict() is built-in function in python which is used to store key-value pairs\n",
    "                        for field in df.schema.fields\n",
    "                        if isinstance(field.dataType, (ArrayType, StructType))])   #Here we are checking if datatypes of fields are arrayType or structType\n",
    "    \n",
    "    while len(complex_fields)!=0:\n",
    "        col_name=list(complex_fields.keys())[0]  #here as we have key-value pair which is column name and datatype in dict(), we are taking column name in 'col_name'\n",
    "        if isinstance(complex_fields[column_name], StructType):\n",
    "            expanded=[col(col_name+'.'+k).alias(col_name+'_'+k) for k in [n.name for n in complex_fields[col_name]]]    #converting field1.field2 to field1_field2\n",
    "            df=df.select(\"*\", *expanded).drop(col_name)\n",
    "        elif isinstance(complex_fields[column_name], ArrayType):\n",
    "            df=df.withColumn(col_name,explode_outer(col_name))\n",
    "        \n",
    "            complex_fields=dict([(field.name, field.dataType)\n",
    "                        for field in df.schema.fields\n",
    "                        if type(field.dataType)==ArrayType or type(field.dataType)==StructType])\n",
    "            \n",
    "    return df\n"
   ]
  },
  {
   "cell_type": "code",
   "execution_count": 6,
   "id": "54cd1a2f-17cd-4964-9b90-1f497b9493e7",
   "metadata": {},
   "outputs": [
    {
     "ename": "NameError",
     "evalue": "name 'df' is not defined",
     "output_type": "error",
     "traceback": [
      "\u001b[1;31m---------------------------------------------------------------------------\u001b[0m",
      "\u001b[1;31mNameError\u001b[0m                                 Traceback (most recent call last)",
      "Cell \u001b[1;32mIn[6], line 1\u001b[0m\n\u001b[1;32m----> 1\u001b[0m df_flatten\u001b[38;5;241m=\u001b[39mflatten(\u001b[43mdf\u001b[49m)\n\u001b[0;32m      3\u001b[0m display(df_flatten)\n",
      "\u001b[1;31mNameError\u001b[0m: name 'df' is not defined"
     ]
    }
   ],
   "source": [
    "df_flatten=flatten(df)\n",
    "\n",
    "display(df_flatten)"
   ]
  }
 ],
 "metadata": {
  "kernelspec": {
   "display_name": "Python 3 (ipykernel)",
   "language": "python",
   "name": "python3"
  },
  "language_info": {
   "codemirror_mode": {
    "name": "ipython",
    "version": 3
   },
   "file_extension": ".py",
   "mimetype": "text/x-python",
   "name": "python",
   "nbconvert_exporter": "python",
   "pygments_lexer": "ipython3",
   "version": "3.12.3"
  }
 },
 "nbformat": 4,
 "nbformat_minor": 5
}
