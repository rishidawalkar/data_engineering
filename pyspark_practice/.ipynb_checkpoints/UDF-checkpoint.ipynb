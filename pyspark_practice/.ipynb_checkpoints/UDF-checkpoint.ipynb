{
 "cells": [
  {
   "cell_type": "code",
   "execution_count": 14,
   "id": "78b9e930-dc26-4d4e-b572-2e420f9465e3",
   "metadata": {},
   "outputs": [
    {
     "name": "stdout",
     "output_type": "stream",
     "text": [
      "+---+----------------+------------+-------------+-------+--------+-----------+-------+-------------+-------------+-------------+-------------+-------------+-------------+-------------+\n",
      "| Id|Institution_Name| Branch_Name|Branch_Number|   City|  County|      State|Zipcode|2010_Deposits|2011_Deposits|2012_Deposits|2013_Deposits|2014_Deposits|2015_Deposits|2016_Deposits|\n",
      "+---+----------------+------------+-------------+-------+--------+-----------+-------+-------------+-------------+-------------+-------------+-------------+-------------+-------------+\n",
      "|  1|           abcde|      Bandra|          100| Mumbai| Western|Maharashtra| 400000|      9783849|       844848|      8484393|       834841|       284773|      7389298|       737839|\n",
      "|  2|            gdtd|Govind nagar|          101| Nashik| Eastern|Maharashtra|  41111|        64848|       836239|        53446|       834780|        76436|        98753|        23556|\n",
      "|  3|            huhu|Shivaji park|          102| Mumbai| Western|Maharashtra| 400000|       738282|       618151|       878776|       676755|       343567|      2457445|       764538|\n",
      "|  4|            gstu|       Bronx|          500|Newyork|Northern|         NY|  10000|      7632927|       652818|       787565|      1234556|      4545734|     67545454|         4543|\n",
      "|  5|           ppaio|   Manhattan|          501|Newyork| Central|         NY|  10001|       729929|       638828|       517829|      4291873|       743778|       122738|       737728|\n",
      "+---+----------------+------------+-------------+-------+--------+-----------+-------+-------------+-------------+-------------+-------------+-------------+-------------+-------------+\n",
      "\n",
      "+------+--------------------+---------------+-----------------+--------+----------+-----------+-----------+-----------------+-----------------+-----------------+-----------------+-----------------+-----------------+-----------------+\n",
      "|Col_Id|Col_Institution_Name|Col_Branch_Name|Col_Branch_Number|Col_City|Col_County|  Col_State|Col_Zipcode|Col_2010_Deposits|Col_2011_Deposits|Col_2012_Deposits|Col_2013_Deposits|Col_2014_Deposits|Col_2015_Deposits|Col_2016_Deposits|\n",
      "+------+--------------------+---------------+-----------------+--------+----------+-----------+-----------+-----------------+-----------------+-----------------+-----------------+-----------------+-----------------+-----------------+\n",
      "|     1|               abcde|         Bandra|              100|  Mumbai|   Western|Maharashtra|     400000|          9783849|           844848|          8484393|           834841|           284773|          7389298|           737839|\n",
      "|     2|                gdtd|   Govind nagar|              101|  Nashik|   Eastern|Maharashtra|      41111|            64848|           836239|            53446|           834780|            76436|            98753|            23556|\n",
      "|     3|                huhu|   Shivaji park|              102|  Mumbai|   Western|Maharashtra|     400000|           738282|           618151|           878776|           676755|           343567|          2457445|           764538|\n",
      "|     4|                gstu|          Bronx|              500| Newyork|  Northern|         NY|      10000|          7632927|           652818|           787565|          1234556|          4545734|         67545454|             4543|\n",
      "|     5|               ppaio|      Manhattan|              501| Newyork|   Central|         NY|      10001|           729929|           638828|           517829|          4291873|           743778|           122738|           737728|\n",
      "+------+--------------------+---------------+-----------------+--------+----------+-----------+-----------+-----------------+-----------------+-----------------+-----------------+-----------------+-----------------+-----------------+\n",
      "\n",
      "+---+----------------+------------+-------------+-------+--------+-----------+-------+-------------+-------------+-------------+-------------+-------------+-------------+-------------+---------------+\n",
      "| Id|Institution_Name| Branch_Name|Branch_Number|   City|  County|      State|Zipcode|2010_Deposits|2011_Deposits|2012_Deposits|2013_Deposits|2014_Deposits|2015_Deposits|2016_Deposits|New_Branch_Name|\n",
      "+---+----------------+------------+-------------+-------+--------+-----------+-------+-------------+-------------+-------------+-------------+-------------+-------------+-------------+---------------+\n",
      "|  1|           abcde|      Bandra|          100| Mumbai| Western|Maharashtra| 400000|      9783849|       844848|      8484393|       834841|       284773|      7389298|       737839|         BANDRA|\n",
      "|  2|            gdtd|Govind nagar|          101| Nashik| Eastern|Maharashtra|  41111|        64848|       836239|        53446|       834780|        76436|        98753|        23556|   GOVIND NAGAR|\n",
      "|  3|            huhu|Shivaji park|          102| Mumbai| Western|Maharashtra| 400000|       738282|       618151|       878776|       676755|       343567|      2457445|       764538|   SHIVAJI PARK|\n",
      "|  4|            gstu|       Bronx|          500|Newyork|Northern|         NY|  10000|      7632927|       652818|       787565|      1234556|      4545734|     67545454|         4543|          BRONX|\n",
      "|  5|           ppaio|   Manhattan|          501|Newyork| Central|         NY|  10001|       729929|       638828|       517829|      4291873|       743778|       122738|       737728|      MANHATTAN|\n",
      "+---+----------------+------------+-------------+-------+--------+-----------+-------+-------------+-------------+-------------+-------------+-------------+-------------+-------------+---------------+\n",
      "\n"
     ]
    }
   ],
   "source": [
    "## UDF (User defined function) is a feature which contains reusable code that is needed frquently accross several tasks\n",
    "\n",
    "import pyspark, os, sys\n",
    "from pyspark.sql import *\n",
    "from pyspark import SparkConf,SparkContext\n",
    "from pyspark.sql.functions import *\n",
    "from pyspark.sql.types import *\n",
    "from pyspark.sql import types\n",
    "from pyspark import StorageLevel\n",
    "from pyspark.sql.functions import broadcast\n",
    "import pyspark.sql.functions as f\n",
    "\n",
    "spark=SparkSession.builder.getOrCreate()\n",
    "\n",
    "df=spark.read.format(\"csv\").option(\"inferSchema\", True).option(\"header\", True).load(\"sample1.csv\")\n",
    "\n",
    "df.show()\n",
    "\n",
    "#Below is UDF for column renaming\n",
    "def column_renaming(df):\n",
    "    \n",
    "    for column in df.columns:\n",
    "        new_column=\"Col_\"+column\n",
    "        df=df.withColumnRenamed(column, new_column)\n",
    "        \n",
    "    return df\n",
    "\n",
    "rename_df=column_renaming(df)\n",
    "rename_df.show()\n",
    "\n",
    "#Below is UDF for converting column values in Upper case\n",
    "def upper_name(df):\n",
    "    df=df.withColumn('New_Branch_Name', upper(df.Branch_Name))\n",
    "    return df\n",
    "\n",
    "\n",
    "upper_df=upper_name(df)\n",
    "upper_df.show()"
   ]
  }
 ],
 "metadata": {
  "kernelspec": {
   "display_name": "Python 3 (ipykernel)",
   "language": "python",
   "name": "python3"
  },
  "language_info": {
   "codemirror_mode": {
    "name": "ipython",
    "version": 3
   },
   "file_extension": ".py",
   "mimetype": "text/x-python",
   "name": "python",
   "nbconvert_exporter": "python",
   "pygments_lexer": "ipython3",
   "version": "3.12.3"
  }
 },
 "nbformat": 4,
 "nbformat_minor": 5
}
