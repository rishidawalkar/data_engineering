{
 "cells": [
  {
   "cell_type": "code",
   "execution_count": 4,
   "id": "d185569d-526d-45ea-a89b-1ae598a0f693",
   "metadata": {},
   "outputs": [
    {
     "name": "stdout",
     "output_type": "stream",
     "text": [
      "no. of partitions:\n",
      "4\n",
      "total no. of records in dataframe:\n",
      "372974\n",
      "ideal even distribution of records accross all partitions:\n",
      "93243.5\n",
      "to check no. of records stored in each partition\n",
      "+--------------------+-----+\n",
      "|SPARK_PARTITION_ID()|count|\n",
      "+--------------------+-----+\n",
      "|                   0|99109|\n",
      "|                   1|99124|\n",
      "|                   2|99125|\n",
      "|                   3|75616|\n",
      "+--------------------+-----+\n",
      "\n",
      "NOTE: used repartition() to evenly distribute records accross all partitions\n",
      "\n",
      "records evenly distributed accross all partitions:\n",
      "+--------------------+-----+\n",
      "|SPARK_PARTITION_ID()|count|\n",
      "+--------------------+-----+\n",
      "|                   0|93244|\n",
      "|                   1|93244|\n",
      "|                   2|93243|\n",
      "|                   3|93243|\n",
      "+--------------------+-----+\n",
      "\n"
     ]
    }
   ],
   "source": [
    "import pyspark, os, sys\n",
    "from pyspark.sql import *\n",
    "from pyspark import SparkConf,SparkContext\n",
    "from pyspark.sql.functions import *\n",
    "from pyspark.sql.types import *\n",
    "from pyspark.sql import types\n",
    "from pyspark import StorageLevel\n",
    "from pyspark.sql.functions import broadcast\n",
    "from pyspark.sql.functions import instr\n",
    "from pyspark.sql.functions import expr\n",
    "from pyspark.sql.functions import col, array_contains\n",
    "from pyspark.sql.functions import regexp_extract\n",
    "from pyspark.sql.functions import posexplode\n",
    "from pyspark.sql.functions import spark_partition_id\n",
    "\n",
    "spark=SparkSession.builder.getOrCreate()\n",
    "\n",
    "df=spark.read.format(\"csv\").option(\"header\", True).load(\"heart_attack_dataset.csv\")\n",
    "\n",
    "print(\"no. of partitions:\")\n",
    "print(df.rdd.getNumPartitions())\n",
    "\n",
    "print(\"total no. of records in dataframe:\")\n",
    "print(df.count())\n",
    "\n",
    "print(\"ideal even distribution of records accross all partitions:\")\n",
    "#to check no. of records/no. of partitions\n",
    "print(df.count()/df.rdd.getNumPartitions())\n",
    "\n",
    "print(\"to check no. of records stored in each partition\")\n",
    "df.groupBy(spark_partition_id()).count().show()\n",
    "\n",
    "print(\"NOTE: used repartition() to evenly distribute records accross all partitions\")\n",
    "#to resolve data skewing issue we use repartition()\n",
    "df=df.repartition(4)\n",
    "\n",
    "print(\"\")\n",
    "print(\"records evenly distributed accross all partitions:\")\n",
    "df.groupBy(spark_partition_id()).count().show()"
   ]
  },
  {
   "cell_type": "code",
   "execution_count": null,
   "id": "78d0a927-cb51-417b-9f56-beed5996b6e5",
   "metadata": {},
   "outputs": [],
   "source": []
  }
 ],
 "metadata": {
  "kernelspec": {
   "display_name": "Python 3 (ipykernel)",
   "language": "python",
   "name": "python3"
  },
  "language_info": {
   "codemirror_mode": {
    "name": "ipython",
    "version": 3
   },
   "file_extension": ".py",
   "mimetype": "text/x-python",
   "name": "python",
   "nbconvert_exporter": "python",
   "pygments_lexer": "ipython3",
   "version": "3.12.3"
  }
 },
 "nbformat": 4,
 "nbformat_minor": 5
}
