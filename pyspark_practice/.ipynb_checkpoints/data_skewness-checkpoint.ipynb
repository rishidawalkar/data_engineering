{
 "cells": [
  {
   "cell_type": "code",
   "execution_count": 22,
   "id": "937f8b15-6f75-4756-a7b2-c2399dc1974a",
   "metadata": {},
   "outputs": [
    {
     "name": "stdout",
     "output_type": "stream",
     "text": [
      "+-----------+-----+\n",
      "|partitionId|count|\n",
      "+-----------+-----+\n",
      "|          0|  557|\n",
      "|          1|  557|\n",
      "|          2|  557|\n",
      "|          3|  557|\n",
      "|          4|  557|\n",
      "|          5|  557|\n",
      "|          6|  557|\n",
      "|          7|  557|\n",
      "|          9|  557|\n",
      "|         10|  557|\n",
      "|         11|  557|\n",
      "|         12|  557|\n",
      "|         13|  557|\n",
      "|         14|  557|\n",
      "|         15|  557|\n",
      "|         16|  557|\n",
      "|         17|  557|\n",
      "|         18|  557|\n",
      "|         19|  557|\n",
      "|          8|  556|\n",
      "+-----------+-----+\n",
      "\n"
     ]
    }
   ],
   "source": [
    "import pyspark, os, sys\n",
    "from pyspark.sql import *\n",
    "from pyspark import SparkConf,SparkContext\n",
    "from pyspark.sql.functions import *\n",
    "from pyspark.sql.types import *\n",
    "from pyspark.sql import types\n",
    "from pyspark import StorageLevel\n",
    "from pyspark.sql.functions import broadcast\n",
    "from pyspark.sql.functions import spark_partition_id, asc, desc\n",
    "\n",
    "spark=SparkSession.builder.getOrCreate()\n",
    "\n",
    "df=spark.read.format(\"csv\").option(\"header\", True).load(\"sample_records.csv\")\n",
    "\n",
    "df.rdd.getNumPartitions() #no. of partitions should be 8 as default\n",
    "\n",
    "df1=df.withColumn(\"partitionId\", spark_partition_id())\n",
    "\n",
    "df2=df.repartition(20).withColumn(\"partitionId\", spark_partition_id())\n",
    "\n",
    "df2.rdd.getNumPartitions()  #now, no. of partitions should be 20\n",
    "\n",
    "df3=df2.withColumn(\"partitionId\", spark_partition_id())\\\n",
    ".groupBy(\"partitionId\")\\\n",
    ".count()\\\n",
    ".orderBy(col(\"count\").desc())\n",
    "\n",
    "df3.show()\n",
    "\n",
    "#Earlier before performing repartition(), we had uneven distribution of data, but after repartition(), data is evenly distributed accross partitions."
   ]
  },
  {
   "cell_type": "code",
   "execution_count": null,
   "id": "8528c941-ff91-4e1b-a502-78a84d41aca9",
   "metadata": {},
   "outputs": [],
   "source": []
  }
 ],
 "metadata": {
  "kernelspec": {
   "display_name": "Python 3 (ipykernel)",
   "language": "python",
   "name": "python3"
  },
  "language_info": {
   "codemirror_mode": {
    "name": "ipython",
    "version": 3
   },
   "file_extension": ".py",
   "mimetype": "text/x-python",
   "name": "python",
   "nbconvert_exporter": "python",
   "pygments_lexer": "ipython3",
   "version": "3.12.3"
  }
 },
 "nbformat": 4,
 "nbformat_minor": 5
}
