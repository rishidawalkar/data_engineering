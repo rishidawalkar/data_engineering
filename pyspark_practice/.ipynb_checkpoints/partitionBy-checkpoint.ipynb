{
 "cells": [
  {
   "cell_type": "code",
   "execution_count": 30,
   "id": "45d2387a-ddc1-4ae3-a4f9-8cea50342031",
   "metadata": {},
   "outputs": [
    {
     "data": {
      "text/plain": [
       "3"
      ]
     },
     "execution_count": 30,
     "metadata": {},
     "output_type": "execute_result"
    }
   ],
   "source": [
    "import pyspark, os, sys\n",
    "from pyspark.sql import *\n",
    "from pyspark import SparkConf,SparkContext\n",
    "from pyspark.sql.functions import *\n",
    "from pyspark.sql.types import *\n",
    "from pyspark.sql import types\n",
    "\n",
    "\n",
    "spark=SparkSession.builder.getOrCreate()\n",
    "\n",
    "df=spark.read.format(\"csv\").option(\"header\", True).option(\"inferSchema\", True).load(\"sample1.csv\")\n",
    "#df.show()\n",
    "#df.groupBy(\"City\").count().show()\n",
    "\n",
    "df.write.option(\"header\", True).partitionBy(\"City\").mode(\"overwrite\").csv(\"/pyspark_practice/partitionBy_output_files\") #Here we are partitioning based on one column which is 'City'\n",
    "df2=spark.read.format(\"csv\").option(\"header\", True).option(\"inferSchema\", True).load(\"/pyspark_practice/partitionBy_output_files/\")\n",
    "#df2.show()\n",
    "df2.rdd.getNumPartitions()  #3 partitions will be created while writing csv file in putput location beacuse we are grouping by 'city' and there are 3 cities in input csv file.\n",
    "\n",
    "#we are performing partitions based on 2 columns 'City' and 'Zipcode'\n",
    "df.write.option(\"header\", True).partitionBy(\"City\",\"Zipcode\").mode(\"overwrite\").csv(\"/pyspark_practice/partitionBy_output_files_multiple_columns/\")\n",
    "df3=spark.read.format(\"csv\").option(\"header\", True).option(\"inferSchema\", True).load(\"/pyspark_practice/partitionBy_output_files_multiple_columns/\")\n",
    "#df3.show()\n",
    "df3.rdd.getNumPartitions()\n",
    "\n",
    "\n",
    "df.write.option(\"header\", True).option(\"maxRecordsPerFile\",1).partitionBy(\"City\").mode(\"overwrite\").csv(\"/pyspark_practice/max_records_per_partition/\")\n",
    "\n",
    "df4=spark.read.format(\"csv\").option(\"header\", True).option(\"inferSchema\", True).load(\"/pyspark_practice/max_records_per_partition/\")\n",
    "#df4.show()\n",
    "df4.rdd.getNumPartitions()"
   ]
  },
  {
   "cell_type": "code",
   "execution_count": 48,
   "id": "6d52e64e-f7fd-49ee-a2a5-0cb2eb5e20d5",
   "metadata": {},
   "outputs": [
    {
     "name": "stdout",
     "output_type": "stream",
     "text": [
      "+---+-------+-------+\n",
      "| Id|   City|Zipcode|\n",
      "+---+-------+-------+\n",
      "|  3| Mumbai| 400000|\n",
      "|  4|Newyork|  10000|\n",
      "|  2| Nashik|  41111|\n",
      "|  1| Mumbai| 400000|\n",
      "|  5|Newyork|  10001|\n",
      "+---+-------+-------+\n",
      "\n",
      "+-----------+-----+\n",
      "|partitionId|count|\n",
      "+-----------+-----+\n",
      "|          0|    1|\n",
      "|          1|    1|\n",
      "|          2|    1|\n",
      "|          3|    1|\n",
      "|          4|    1|\n",
      "+-----------+-----+\n",
      "\n"
     ]
    }
   ],
   "source": [
    "#to check no. of records per partition\n",
    "from pyspark.sql.functions import spark_partition_id  #this library is used to assign id to each record within the partition \n",
    "spark=SparkSession.builder.getOrCreate()\n",
    "\n",
    "df=spark.read.format(\"csv\").option(\"header\", True).option(\"inferSchema\", True).load(\"sample1.csv\")\n",
    "#df.show()\n",
    "\n",
    "df.withColumn(\"partitionId\", spark_partition_id()).groupBy('partitionId').count()#.show()\n",
    "\n",
    "df.rdd.getNumPartitions()  #Here it will show 1 as output as we have not done any adjustment in partition or repartition\n",
    "df_new=df.select(df.Id, df.City, df.Zipcode).repartition(5)\n",
    "df_new.show()\n",
    "df_new.rdd.getNumPartitions()  #Here we will get 5 partitions as we have done repartition above\n",
    "\n",
    "df_new.withColumn(\"partitionId\", spark_partition_id()).groupBy(\"partitionId\").count().show() "
   ]
  }
 ],
 "metadata": {
  "kernelspec": {
   "display_name": "Python 3 (ipykernel)",
   "language": "python",
   "name": "python3"
  },
  "language_info": {
   "codemirror_mode": {
    "name": "ipython",
    "version": 3
   },
   "file_extension": ".py",
   "mimetype": "text/x-python",
   "name": "python",
   "nbconvert_exporter": "python",
   "pygments_lexer": "ipython3",
   "version": "3.12.3"
  }
 },
 "nbformat": 4,
 "nbformat_minor": 5
}
