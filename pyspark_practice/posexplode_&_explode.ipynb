{
 "cells": [
  {
   "cell_type": "code",
   "execution_count": 1,
   "id": "f7693be4-bd66-4ae0-94f5-42377a4fca91",
   "metadata": {},
   "outputs": [
    {
     "name": "stdout",
     "output_type": "stream",
     "text": [
      "+---+----------------+\n",
      "| id|         subject|\n",
      "+---+----------------+\n",
      "|  1|  maths, science|\n",
      "|  2|english, history|\n",
      "|  3|     physics, IT|\n",
      "+---+----------------+\n",
      "\n",
      "posexplode:\n",
      "+---+---+--------+\n",
      "| id|pos|     col|\n",
      "+---+---+--------+\n",
      "|  1|  0|   maths|\n",
      "|  1|  1| science|\n",
      "|  2|  0| english|\n",
      "|  2|  1| history|\n",
      "|  3|  0| physics|\n",
      "|  3|  1|      IT|\n",
      "+---+---+--------+\n",
      "\n",
      "explode:\n",
      "+---+--------+\n",
      "| id|     col|\n",
      "+---+--------+\n",
      "|  1|   maths|\n",
      "|  1| science|\n",
      "|  2| english|\n",
      "|  2| history|\n",
      "|  3| physics|\n",
      "|  3|      IT|\n",
      "+---+--------+\n",
      "\n"
     ]
    }
   ],
   "source": [
    "import pyspark, os, sys\n",
    "from pyspark.sql import *\n",
    "from pyspark import SparkConf,SparkContext\n",
    "from pyspark.sql.functions import *\n",
    "from pyspark.sql.types import *\n",
    "from pyspark.sql import types\n",
    "from pyspark import StorageLevel\n",
    "from pyspark.sql.functions import broadcast\n",
    "from pyspark.sql.functions import instr\n",
    "from pyspark.sql.functions import expr\n",
    "from pyspark.sql.functions import col, array_contains\n",
    "from pyspark.sql.functions import regexp_extract\n",
    "from pyspark.sql.functions import posexplode\n",
    "\n",
    "spark=SparkSession.builder.getOrCreate()\n",
    "\n",
    "df=spark.read.format(\"csv\").option(\"header\", True).load(\"subjects.csv\")\n",
    "df.show()\n",
    "df=df.withColumn(\"splits\", split(\"subject\", \",\"))\n",
    "#df.show()\n",
    "#df.printSchema()\n",
    "print(\"posexplode:\")\n",
    "df.select(\"id\", posexplode(\"splits\")).show()  #you will get each expanded column values in new row along with position of elements\n",
    "\n",
    "print(\"explode:\")\n",
    "df.select(\"id\", explode(\"splits\")).show()    #you will get each expanded column values in new row"
   ]
  },
  {
   "cell_type": "code",
   "execution_count": null,
   "id": "7e9c72f1-fc3c-4ec5-8469-9211463ad9cb",
   "metadata": {},
   "outputs": [],
   "source": []
  }
 ],
 "metadata": {
  "kernelspec": {
   "display_name": "Python 3 (ipykernel)",
   "language": "python",
   "name": "python3"
  },
  "language_info": {
   "codemirror_mode": {
    "name": "ipython",
    "version": 3
   },
   "file_extension": ".py",
   "mimetype": "text/x-python",
   "name": "python",
   "nbconvert_exporter": "python",
   "pygments_lexer": "ipython3",
   "version": "3.12.3"
  }
 },
 "nbformat": 4,
 "nbformat_minor": 5
}
