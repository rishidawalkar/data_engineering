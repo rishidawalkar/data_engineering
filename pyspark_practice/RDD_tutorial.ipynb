{
 "cells": [
  {
   "cell_type": "code",
   "execution_count": 1,
   "id": "48461e09-a091-412a-a503-ef712f3c1b21",
   "metadata": {},
   "outputs": [],
   "source": [
    "import pyspark"
   ]
  },
  {
   "cell_type": "code",
   "execution_count": 2,
   "id": "08f490fd-a27e-456b-bf7f-6bd42c2906f6",
   "metadata": {},
   "outputs": [],
   "source": [
    "from pyspark.sql import SparkSession"
   ]
  },
  {
   "cell_type": "code",
   "execution_count": 3,
   "id": "59872ec4-8167-40a4-aedb-f826eeef05a1",
   "metadata": {},
   "outputs": [],
   "source": [
    "spark= SparkSession.builder.getOrCreate()"
   ]
  },
  {
   "cell_type": "code",
   "execution_count": 4,
   "id": "e4ee012d-72a4-4b3c-9e06-62c39d9884cd",
   "metadata": {},
   "outputs": [],
   "source": [
    "from pyspark import SparkConf,SparkContext"
   ]
  },
  {
   "cell_type": "code",
   "execution_count": 52,
   "id": "b602a7f6-1386-4f4b-ac25-808cd976614f",
   "metadata": {},
   "outputs": [],
   "source": [
    "rdd=spark.sparkContext.textFile(r'C:\\Users\\HP\\Downloads\\sql_posts.txt')"
   ]
  },
  {
   "cell_type": "code",
   "execution_count": 53,
   "id": "60de9225-fdbb-464a-9004-0dbdf7014384",
   "metadata": {},
   "outputs": [
    {
     "data": {
      "text/plain": [
       "['Primary key : It is an unique identifier with which we can retrieve a particular record from the table. There can only be one primary key column in a table.',\n",
       " '',\n",
       " 'Foreign key: It is a column or set of columns in one table that refers to primary key in another table. It establishes relationship between 2 tables.',\n",
       " '',\n",
       " 'Candidate key: It is a column or set of columns that can uniquely identify a row in a table. The purpose of candidate key is similar to primary key. But while table can have only 1 primary key, we can have multiple candidate keys.',\n",
       " '',\n",
       " 'Alternate key:  In a table where there are multiple candidate keys, the keys which are not chosen as primary key are considered as Alternate keys.',\n",
       " '',\n",
       " 'Composite key: It is a primary key formed by combining 2 or more columns to uniquely identify each record in the table.',\n",
       " '',\n",
       " 'Super key: It is a set of 2 or more candidate keys that can uniquely identify each record in table.',\n",
       " '',\n",
       " '',\n",
       " '1NF: In First normal form, Each record in the table should be unique and each cell in the record should have single value.',\n",
       " '',\n",
       " '2NF: In second normal form, It should follow 1NF, and all non-key attributes should be fully dependent on primary key in the table.',\n",
       " '',\n",
       " '3NF: In third normal form, It should follow both 1NF and 2NF and one non-key attribute should not be dependent on other non-key attributes.',\n",
       " '']"
      ]
     },
     "execution_count": 53,
     "metadata": {},
     "output_type": "execute_result"
    }
   ],
   "source": [
    "rdd.collect()"
   ]
  },
  {
   "cell_type": "code",
   "execution_count": 51,
   "id": "7643a60d-3dad-4b6a-889d-42b701ad167f",
   "metadata": {},
   "outputs": [],
   "source": [
    "def Func(lines):\n",
    "    lines=lines.lower()\n",
    "    lines=lines.split()\n",
    "    return lines\n",
    "\n",
    "rdd1=rdd.map(Func)"
   ]
  },
  {
   "cell_type": "code",
   "execution_count": 5,
   "id": "ecc7726f-8e53-4e64-baa6-4be76d93537c",
   "metadata": {},
   "outputs": [],
   "source": [
    "jsonRDD = spark.sparkContext.parallelize(\n",
    "    (\n",
    "        \"\"\"{\n",
    "            \"id\" : \"1\",\n",
    "            \"name\" : \"Rd\",\n",
    "            \"age\" : \"25\"\n",
    "        }\"\"\",\n",
    "        \"\"\"{\n",
    "            \"id\" : \"2\",\n",
    "            \"name\" : \"Nd\",\n",
    "            \"age\" : \"21\"\n",
    "        }\"\"\",\n",
    "        \"\"\"{\n",
    "            \"id\" : \"3\",\n",
    "            \"name\" : \"Jack\",\n",
    "            \"age\" : \"34\"\n",
    "        }\"\"\"\n",
    "    )\n",
    ")     #To provide/define data through RDD."
   ]
  },
  {
   "cell_type": "code",
   "execution_count": 6,
   "id": "5e231cbb-7696-4426-b6e8-7c6dbd6bb4e1",
   "metadata": {},
   "outputs": [
    {
     "data": {
      "text/plain": [
       "['{\\n            \"id\" : \"1\",\\n            \"name\" : \"Rd\",\\n            \"age\" : \"25\"\\n        }',\n",
       " '{\\n            \"id\" : \"2\",\\n            \"name\" : \"Nd\",\\n            \"age\" : \"21\"\\n        }',\n",
       " '{\\n            \"id\" : \"3\",\\n            \"name\" : \"Jack\",\\n            \"age\" : \"34\"\\n        }']"
      ]
     },
     "execution_count": 6,
     "metadata": {},
     "output_type": "execute_result"
    }
   ],
   "source": [
    "jsonRDD.collect()     #To print provided json data "
   ]
  },
  {
   "cell_type": "code",
   "execution_count": null,
   "id": "ac1eade2-31ac-4996-92d8-8515c9e6dca0",
   "metadata": {},
   "outputs": [],
   "source": [
    "#####Dataframes operations below:"
   ]
  },
  {
   "cell_type": "code",
   "execution_count": 8,
   "id": "b26b8e6a-ef5b-41c7-b268-819b552935a1",
   "metadata": {},
   "outputs": [],
   "source": [
    "df=spark.read.csv(r'C:\\Users\\HP\\Downloads\\sample.csv', header=True, inferSchema=True)   #To read csv file from local file system"
   ]
  },
  {
   "cell_type": "code",
   "execution_count": 9,
   "id": "6601814c-c4f1-440d-ab36-43f220acd4ca",
   "metadata": {},
   "outputs": [
    {
     "name": "stdout",
     "output_type": "stream",
     "text": [
      "+---+----------------+------------+-------------+-------+--------+-----------+-------+-------------+-------------+-------------+-------------+-------------+-------------+-------------+\n",
      "| Id|Institution_Name| Branch_Name|Branch_Number|   City|  County|      State|Zipcode|2010_Deposits|2011_Deposits|2012_Deposits|2013_Deposits|2014_Deposits|2015_Deposits|2016_Deposits|\n",
      "+---+----------------+------------+-------------+-------+--------+-----------+-------+-------------+-------------+-------------+-------------+-------------+-------------+-------------+\n",
      "|  1|           abcde|      Bandra|          100| Mumbai| Western|Maharashtra| 400000|      9783849|       844848|      8484393|       834841|       284773|      7389298|       737839|\n",
      "|  2|            gdtd|Govind nagar|          101| Nashik| Eastern|Maharashtra|  41111|        64848|       836239|        53446|       834780|        76436|        98753|        23556|\n",
      "|  3|            huhu|Shivaji park|          102| Mumbai| Western|Maharashtra| 400000|       738282|       618151|       878776|       676755|       343567|      2457445|       764538|\n",
      "|  4|            gstu|       Bronx|          500|Newyork|Northern|         NY|  10000|      7632927|       652818|       787565|      1234556|      4545734|     67545454|         4543|\n",
      "|  5|           ppaio|   Manhattan|          501|Newyork| Central|         NY|  10001|       729929|       638828|       517829|      4291873|       743778|       122738|       737728|\n",
      "+---+----------------+------------+-------------+-------+--------+-----------+-------+-------------+-------------+-------------+-------------+-------------+-------------+-------------+\n",
      "\n"
     ]
    }
   ],
   "source": [
    "df.show()"
   ]
  },
  {
   "cell_type": "code",
   "execution_count": 43,
   "id": "431a1490-d862-400c-b010-626291482bd2",
   "metadata": {},
   "outputs": [
    {
     "name": "stdout",
     "output_type": "stream",
     "text": [
      "root\n",
      " |-- Id: integer (nullable = true)\n",
      " |-- Institution_Name: string (nullable = true)\n",
      " |-- Branch_Name: string (nullable = true)\n",
      " |-- Branch_Number: integer (nullable = true)\n",
      " |-- City: string (nullable = true)\n",
      " |-- County: string (nullable = true)\n",
      " |-- State: string (nullable = true)\n",
      " |-- Zipcode: integer (nullable = true)\n",
      " |-- 2010_Deposits: integer (nullable = true)\n",
      " |-- 2011_Deposits: integer (nullable = true)\n",
      " |-- 2012_Deposits: integer (nullable = true)\n",
      " |-- 2013_Deposits: integer (nullable = true)\n",
      " |-- 2014_Deposits: integer (nullable = true)\n",
      " |-- 2015_Deposits: integer (nullable = true)\n",
      " |-- 2016_Deposits: integer (nullable = true)\n",
      "\n"
     ]
    }
   ],
   "source": [
    "df.printSchema()      #To get schema of dataframe"
   ]
  },
  {
   "cell_type": "code",
   "execution_count": 44,
   "id": "03d8624c-7c47-4677-8cc1-77a5f5431179",
   "metadata": {},
   "outputs": [
    {
     "data": {
      "text/plain": [
       "5"
      ]
     },
     "execution_count": 44,
     "metadata": {},
     "output_type": "execute_result"
    }
   ],
   "source": [
    "df.count()"
   ]
  },
  {
   "cell_type": "code",
   "execution_count": 45,
   "id": "0424ebcc-4ee4-4cbb-bfad-8f82a1f782d1",
   "metadata": {},
   "outputs": [
    {
     "name": "stdout",
     "output_type": "stream",
     "text": [
      "+---+----------------+--------+\n",
      "| Id|Institution_Name|  County|\n",
      "+---+----------------+--------+\n",
      "|  1|           abcde| Western|\n",
      "|  2|            gdtd| Eastern|\n",
      "|  3|            huhu| Western|\n",
      "|  4|            gstu|Northern|\n",
      "|  5|           ppaio| Central|\n",
      "+---+----------------+--------+\n",
      "\n"
     ]
    }
   ],
   "source": [
    "df.select('Id','Institution_Name','County').show()    #To get data for specific columns"
   ]
  },
  {
   "cell_type": "code",
   "execution_count": 55,
   "id": "b429728e-eefe-48e8-b2ab-18ab25cd796d",
   "metadata": {},
   "outputs": [
    {
     "name": "stdout",
     "output_type": "stream",
     "text": [
      "+-------+-------+\n",
      "|summary|   city|\n",
      "+-------+-------+\n",
      "|  count|      5|\n",
      "|   mean|   NULL|\n",
      "| stddev|   NULL|\n",
      "|    min| Mumbai|\n",
      "|    max|Newyork|\n",
      "+-------+-------+\n",
      "\n"
     ]
    }
   ],
   "source": [
    "df.describe(\"city\").show()    #To check summary of a column "
   ]
  },
  {
   "cell_type": "code",
   "execution_count": null,
   "id": "5e6eb2a2-1a83-402a-a29d-224de2090736",
   "metadata": {},
   "outputs": [],
   "source": []
  }
 ],
 "metadata": {
  "kernelspec": {
   "display_name": "Python 3 (ipykernel)",
   "language": "python",
   "name": "python3"
  },
  "language_info": {
   "codemirror_mode": {
    "name": "ipython",
    "version": 3
   },
   "file_extension": ".py",
   "mimetype": "text/x-python",
   "name": "python",
   "nbconvert_exporter": "python",
   "pygments_lexer": "ipython3",
   "version": "3.12.3"
  }
 },
 "nbformat": 4,
 "nbformat_minor": 5
}
