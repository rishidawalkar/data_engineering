{
 "cells": [
  {
   "cell_type": "code",
   "execution_count": 2,
   "id": "45d2387a-ddc1-4ae3-a4f9-8cea50342031",
   "metadata": {},
   "outputs": [
    {
     "name": "stdout",
     "output_type": "stream",
     "text": [
      "Partitioned data based on 'City' column:\n",
      "+---+----------------+------------+-------------+--------+-----------+-------+-------------+-------------+-------------+-------------+-------------+-------------+-------------+-------+\n",
      "| Id|Institution_Name| Branch_Name|Branch_Number|  County|      State|Zipcode|2010_Deposits|2011_Deposits|2012_Deposits|2013_Deposits|2014_Deposits|2015_Deposits|2016_Deposits|   City|\n",
      "+---+----------------+------------+-------------+--------+-----------+-------+-------------+-------------+-------------+-------------+-------------+-------------+-------------+-------+\n",
      "|  1|           abcde|      Bandra|          100| Western|Maharashtra| 400000|      9783849|       844848|      8484393|       834841|       284773|      7389298|       737839| Mumbai|\n",
      "|  3|            huhu|Shivaji park|          102| Western|Maharashtra| 400000|       738282|       618151|       878776|       676755|       343567|      2457445|       764538| Mumbai|\n",
      "|  4|            gstu|       Bronx|          500|Northern|         NY|  10000|      7632927|       652818|       787565|      1234556|      4545734|     67545454|         4543|Newyork|\n",
      "|  5|           ppaio|   Manhattan|          501| Central|         NY|  10001|       729929|       638828|       517829|      4291873|       743778|       122738|       737728|Newyork|\n",
      "|  2|            gdtd|Govind nagar|          101| Eastern|Maharashtra|  41111|        64848|       836239|        53446|       834780|        76436|        98753|        23556| Nashik|\n",
      "+---+----------------+------------+-------------+--------+-----------+-------+-------------+-------------+-------------+-------------+-------------+-------------+-------------+-------+\n",
      "\n"
     ]
    },
    {
     "data": {
      "text/plain": [
       "3"
      ]
     },
     "execution_count": 2,
     "metadata": {},
     "output_type": "execute_result"
    }
   ],
   "source": [
    "import pyspark, os, sys\n",
    "from pyspark.sql import *\n",
    "from pyspark import SparkConf,SparkContext\n",
    "from pyspark.sql.functions import *\n",
    "from pyspark.sql.types import *\n",
    "from pyspark.sql import types\n",
    "\n",
    "\n",
    "spark=SparkSession.builder.getOrCreate()\n",
    "\n",
    "df=spark.read.format(\"csv\").option(\"header\", True).option(\"inferSchema\", True).load(\"sample1.csv\")\n",
    "#df.show()\n",
    "#df.groupBy(\"City\").count().show()\n",
    "\n",
    "df.write.option(\"header\", True).partitionBy(\"City\").mode(\"overwrite\").csv(\"/pyspark_practice/partitionBy_output_files\") #Here we are partitioning based on one column which is 'City'\n",
    "#print(\"Partitioned data based on 'City' column:\")\n",
    "df2=spark.read.format(\"csv\").option(\"header\", True).option(\"inferSchema\", True).load(\"/pyspark_practice/partitionBy_output_files/\")\n",
    "#df2.show()\n",
    "df2.rdd.getNumPartitions()  #3 partitions will be created while writing csv file in output location beacuse we are grouping by 'city' and there are 3 cities in input csv file.\n",
    "\n",
    "#we are performing partitions based on 2 columns 'City' and 'Zipcode'\n",
    "df.write.option(\"header\", True).partitionBy(\"City\",\"Zipcode\").mode(\"overwrite\").csv(\"/pyspark_practice/partitionBy_output_files_multiple_columns/\")\n",
    "df3=spark.read.format(\"csv\").option(\"header\", True).option(\"inferSchema\", True).load(\"/pyspark_practice/partitionBy_output_files_multiple_columns/\")\n",
    "#df3.show()\n",
    "df3.rdd.getNumPartitions()\n",
    "\n",
    "\n",
    "df.write.option(\"header\", True).option(\"maxRecordsPerFile\",1).partitionBy(\"City\").mode(\"overwrite\").csv(\"/pyspark_practice/max_records_per_partition/\")\n",
    "\n",
    "df4=spark.read.format(\"csv\").option(\"header\", True).option(\"inferSchema\", True).load(\"/pyspark_practice/max_records_per_partition/\")\n",
    "#df4.show()\n",
    "df4.rdd.getNumPartitions()"
   ]
  },
  {
   "cell_type": "code",
   "execution_count": 5,
   "id": "6d52e64e-f7fd-49ee-a2a5-0cb2eb5e20d5",
   "metadata": {},
   "outputs": [
    {
     "name": "stdout",
     "output_type": "stream",
     "text": [
      "+-----------+-----+\n",
      "|partitionId|count|\n",
      "+-----------+-----+\n",
      "|          0|    5|\n",
      "+-----------+-----+\n",
      "\n",
      "+---+-------+-------+\n",
      "| Id|   City|Zipcode|\n",
      "+---+-------+-------+\n",
      "|  3| Mumbai| 400000|\n",
      "|  4|Newyork|  10000|\n",
      "|  2| Nashik|  41111|\n",
      "|  1| Mumbai| 400000|\n",
      "|  5|Newyork|  10001|\n",
      "+---+-------+-------+\n",
      "\n",
      "+-----------+-----+\n",
      "|partitionId|count|\n",
      "+-----------+-----+\n",
      "|          0|    1|\n",
      "|          1|    1|\n",
      "|          2|    1|\n",
      "|          3|    1|\n",
      "|          4|    1|\n",
      "+-----------+-----+\n",
      "\n"
     ]
    }
   ],
   "source": [
    "#to check no. of records per partition\n",
    "from pyspark.sql.functions import spark_partition_id  #this library is used to assign id to each record within the partition \n",
    "spark=SparkSession.builder.getOrCreate()\n",
    "\n",
    "df=spark.read.format(\"csv\").option(\"header\", True).option(\"inferSchema\", True).load(\"sample1.csv\")\n",
    "#df.show()\n",
    "\n",
    "df.withColumn(\"partitionId\", spark_partition_id()).groupBy('partitionId').count().show() #It will show only 1 partition in which all records will be present as we havnent done any repartition\n",
    "\n",
    "df.rdd.getNumPartitions()   #Here we will get 1 partition as output\n",
    "\n",
    "df_new=df.select(df.Id, df.City, df.Zipcode).repartition(5)\n",
    "df_new.show()\n",
    "df_new.rdd.getNumPartitions()  #Here we will get 5 partitions as we have done repartition above\n",
    "\n",
    "df_new.withColumn(\"partitionId\", spark_partition_id()).groupBy(\"partitionId\").count().show() "
   ]
  },
  {
   "cell_type": "code",
   "execution_count": null,
   "id": "74371e8c-32ea-4a42-a3a4-2fbd0b894f17",
   "metadata": {},
   "outputs": [],
   "source": []
  }
 ],
 "metadata": {
  "kernelspec": {
   "display_name": "Python 3 (ipykernel)",
   "language": "python",
   "name": "python3"
  },
  "language_info": {
   "codemirror_mode": {
    "name": "ipython",
    "version": 3
   },
   "file_extension": ".py",
   "mimetype": "text/x-python",
   "name": "python",
   "nbconvert_exporter": "python",
   "pygments_lexer": "ipython3",
   "version": "3.12.3"
  }
 },
 "nbformat": 4,
 "nbformat_minor": 5
}
