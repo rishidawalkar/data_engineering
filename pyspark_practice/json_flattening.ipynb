{
 "cells": [
  {
   "cell_type": "code",
   "execution_count": 25,
   "id": "41993526-86bf-462d-95b4-c030a7a37e46",
   "metadata": {},
   "outputs": [
    {
     "ename": "SyntaxError",
     "evalue": "cannot assign to literal (4268188438.py, line 10)",
     "output_type": "error",
     "traceback": [
      "\u001b[1;36m  Cell \u001b[1;32mIn[25], line 10\u001b[1;36m\u001b[0m\n\u001b[1;33m    \"example_json\"={[\u001b[0m\n\u001b[1;37m    ^\u001b[0m\n\u001b[1;31mSyntaxError\u001b[0m\u001b[1;31m:\u001b[0m cannot assign to literal\n"
     ]
    }
   ],
   "source": [
    "import pyspark, os, sys\n",
    "from pyspark.sql import *\n",
    "from pyspark import SparkConf,SparkContext\n",
    "from pyspark.sql.functions import *\n",
    "from pyspark.sql.types import *\n",
    "from pyspark.sql import types\n",
    "\n",
    "spark=SparkSession.builder.getOrCreate()\n",
    "\n",
    "\"example_json\"={[\n",
    "\"id\": \"1\",\n",
    "\"full_name\": [\n",
    "{\n",
    "    \"first_name\": \"Jacob\",\n",
    "    \"last_name\": \"Jack\"\n",
    "}\n",
    "],\n",
    "\"role\": \"developer\"\n",
    "]}\n",
    "\n",
    "schema = StructField(\"id\", StringType(), True),\n",
    "StructField(\"full_name\", StructType([\n",
    "        StructField(\"first_name\", StringType(), True),\n",
    "        StructField(\"last_name\", StringType(), True)\n",
    "        ]), True),\n",
    "StructField(\"role\", StringType(), True)\n",
    "\n",
    "\n",
    "\n",
    "data=[(str(example_json))]\n",
    "#df=spark.read.option(\"multiline\", \"true\").option('inferSchema', False).json(\"example.json\").show()\n",
    "\n",
    "df=spark.createDataFrame(data=example_json,schema = schema)"
   ]
  },
  {
   "cell_type": "code",
   "execution_count": 14,
   "id": "f67c94c6-4d25-4b69-94b5-8bd91d73e0c5",
   "metadata": {},
   "outputs": [],
   "source": [
    "def flatten(df):\n",
    "    complex_fields=dict([(field.name, field.dataType)        #dict() is built-in function in python which is used to store key-value pairs\n",
    "                        for field in df.schema.fields\n",
    "                        if isinstance(field.dataType, (ArrayType, StructType))])   #Here we are checking if datatypes of fields are arrayType or structType\n",
    "    \n",
    "    while len(complex_fields)!=0:\n",
    "        col_name=list(complex_fields.keys())[0]  #here as we have key-value pair which is column name and datatype in dict(), we are taking column name in 'col_name'\n",
    "        if isinstance(complex_fields[column_name], StructType):\n",
    "            expanded=[col(col_name+'.'+k).alias(col_name+'_'+k) for k in [n.name for n in complex_fields[col_name]]]    #converting field1.field2 to field1_field2\n",
    "            df=df.select(\"*\", *expanded).drop(col_name)\n",
    "        elif isinstance(complex_fields[column_name], ArrayType):\n",
    "            df=df.withColumn(col_name,explode_outer(col_name))\n",
    "            \n",
    "            complex_fields=dict([(field.name, field.dataType)\n",
    "                        for field in df.schema.fields\n",
    "                        if type(field.dataType)==ArrayType or type(field.dataType)==StructType])\n",
    "            \n",
    "    return df\n"
   ]
  },
  {
   "cell_type": "code",
   "execution_count": 15,
   "id": "54cd1a2f-17cd-4964-9b90-1f497b9493e7",
   "metadata": {},
   "outputs": [
    {
     "ename": "AttributeError",
     "evalue": "'NoneType' object has no attribute 'schema'",
     "output_type": "error",
     "traceback": [
      "\u001b[1;31m---------------------------------------------------------------------------\u001b[0m",
      "\u001b[1;31mAttributeError\u001b[0m                            Traceback (most recent call last)",
      "Cell \u001b[1;32mIn[15], line 1\u001b[0m\n\u001b[1;32m----> 1\u001b[0m df_flatten\u001b[38;5;241m=\u001b[39m\u001b[43mflatten\u001b[49m\u001b[43m(\u001b[49m\u001b[43mdf\u001b[49m\u001b[43m)\u001b[49m\n\u001b[0;32m      3\u001b[0m display(df_flatten)\n",
      "Cell \u001b[1;32mIn[14], line 3\u001b[0m, in \u001b[0;36mflatten\u001b[1;34m(df)\u001b[0m\n\u001b[0;32m      1\u001b[0m \u001b[38;5;28;01mdef\u001b[39;00m \u001b[38;5;21mflatten\u001b[39m(df):\n\u001b[0;32m      2\u001b[0m     complex_fields\u001b[38;5;241m=\u001b[39m\u001b[38;5;28mdict\u001b[39m([(field\u001b[38;5;241m.\u001b[39mname, field\u001b[38;5;241m.\u001b[39mdataType)        \u001b[38;5;66;03m#dict() is built-in function in python which is used to store key-value pairs\u001b[39;00m\n\u001b[1;32m----> 3\u001b[0m                         \u001b[38;5;28;01mfor\u001b[39;00m field \u001b[38;5;129;01min\u001b[39;00m \u001b[43mdf\u001b[49m\u001b[38;5;241;43m.\u001b[39;49m\u001b[43mschema\u001b[49m\u001b[38;5;241m.\u001b[39mfields\n\u001b[0;32m      4\u001b[0m                         \u001b[38;5;28;01mif\u001b[39;00m \u001b[38;5;28misinstance\u001b[39m(field\u001b[38;5;241m.\u001b[39mdataType, (ArrayType, StructType))])   \u001b[38;5;66;03m#Here we are checking if datatypes of fields are arrayType or structType\u001b[39;00m\n\u001b[0;32m      6\u001b[0m     \u001b[38;5;28;01mwhile\u001b[39;00m \u001b[38;5;28mlen\u001b[39m(complex_fields)\u001b[38;5;241m!=\u001b[39m\u001b[38;5;241m0\u001b[39m:\n\u001b[0;32m      7\u001b[0m         col_name\u001b[38;5;241m=\u001b[39m\u001b[38;5;28mlist\u001b[39m(complex_fields\u001b[38;5;241m.\u001b[39mkeys())[\u001b[38;5;241m0\u001b[39m]  \u001b[38;5;66;03m#here as we have key-value pair which is column name and datatype in dict(), we are taking column name in 'col_name'\u001b[39;00m\n",
      "\u001b[1;31mAttributeError\u001b[0m: 'NoneType' object has no attribute 'schema'"
     ]
    }
   ],
   "source": [
    "df_flatten=flatten(df)\n",
    "\n",
    "display(df_flatten)"
   ]
  },
  {
   "cell_type": "code",
   "execution_count": null,
   "id": "49cd742c-2d4d-4c39-9ed7-51c1a7f5ff93",
   "metadata": {},
   "outputs": [],
   "source": []
  }
 ],
 "metadata": {
  "kernelspec": {
   "display_name": "Python 3 (ipykernel)",
   "language": "python",
   "name": "python3"
  },
  "language_info": {
   "codemirror_mode": {
    "name": "ipython",
    "version": 3
   },
   "file_extension": ".py",
   "mimetype": "text/x-python",
   "name": "python",
   "nbconvert_exporter": "python",
   "pygments_lexer": "ipython3",
   "version": "3.12.3"
  }
 },
 "nbformat": 4,
 "nbformat_minor": 5
}
