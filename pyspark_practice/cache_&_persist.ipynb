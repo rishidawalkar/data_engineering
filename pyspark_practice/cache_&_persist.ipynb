{
 "cells": [
  {
   "cell_type": "code",
   "execution_count": 30,
   "id": "c44daad5-a17c-48fc-bc90-9829f847c905",
   "metadata": {},
   "outputs": [
    {
     "name": "stdout",
     "output_type": "stream",
     "text": [
      "Disk Memory Deserialized 1x Replicated\n"
     ]
    }
   ],
   "source": [
    "###CACHE feature can be used to store the data only in memory accross multiple nodes\n",
    "###PERSIST feature is used to store the data in memory or in disk accross multiple nodes \n",
    "\n",
    "import pyspark, os, sys\n",
    "from pyspark.sql import *\n",
    "from pyspark import SparkConf,SparkContext\n",
    "from pyspark.sql.functions import *\n",
    "from pyspark.sql.types import *\n",
    "from pyspark.sql import types\n",
    "from pyspark import StorageLevel\n",
    "\n",
    "spark=SparkSession.builder.getOrCreate()\n",
    "\n",
    "df=spark.read.format(\"csv\").option(\"header\", True).option(\"inferSchema\", True).load(\"googleplaystore.csv\")\n",
    "\n",
    "df1=df.cache()\n",
    "\n",
    "#df1.show()\n",
    "\n",
    "#using persist(), we can adjust the storage where we want to store the data, some of the storage levels as below:\n",
    "#MEMORY_ONLY, MEMORY_ONLY_SER, MEMORY_AND_DISK, MEMORY_AND_DISK_SER, DISK_ONLY, OFF_HEAP etc\n",
    "\n",
    "df2=df.persist(StorageLevel.MEMORY_ONLY)\n",
    "\n",
    "#to check which storage level is used in persist()\n",
    "print(f\"{df2.storageLevel}\")   #here we have used 'f' in print() statement, because we need to format the value which we want to print."
   ]
  },
  {
   "cell_type": "code",
   "execution_count": null,
   "id": "a67adf1e-ef85-4c1f-ab47-988245c1df3e",
   "metadata": {},
   "outputs": [],
   "source": []
  }
 ],
 "metadata": {
  "kernelspec": {
   "display_name": "Python 3 (ipykernel)",
   "language": "python",
   "name": "python3"
  },
  "language_info": {
   "codemirror_mode": {
    "name": "ipython",
    "version": 3
   },
   "file_extension": ".py",
   "mimetype": "text/x-python",
   "name": "python",
   "nbconvert_exporter": "python",
   "pygments_lexer": "ipython3",
   "version": "3.12.3"
  }
 },
 "nbformat": 4,
 "nbformat_minor": 5
}
